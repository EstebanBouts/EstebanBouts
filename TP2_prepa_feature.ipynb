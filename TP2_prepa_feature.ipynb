{
  "cells": [
    {
      "cell_type": "markdown",
      "metadata": {
        "id": "ydC6VIsWL72Q"
      },
      "source": [
        "## Import des librairies ##"
      ]
    },
    {
      "cell_type": "code",
      "execution_count": 5,
      "metadata": {
        "id": "6BdiiIDrL72T"
      },
      "outputs": [],
      "source": [
        "#Imports librairies de base\n",
        "import numpy as np\n",
        "import pandas as pd\n",
        "\n",
        "#Affichage de Graphes\n",
        "from IPython.display import Markdown, display, HTML\n",
        "import matplotlib.pyplot as plt\n",
        "\n",
        "#Information Mutuelle\n",
        "from sklearn.feature_selection import mutual_info_regression\n"
      ]
    },
    {
      "cell_type": "markdown",
      "metadata": {
        "_cell_guid": "25b1e1db-8bc5-7029-f719-91da523bd121",
        "_uuid": "5c867fcbb300bcf3c9b8986bba9949da2a2df931",
        "id": "ID9JmY2oL72W"
      },
      "source": [
        "## 1. Lecture des données ##"
      ]
    },
    {
      "cell_type": "markdown",
      "metadata": {
        "id": "ejgekOQhL72X"
      },
      "source": [
        ":1.1 Charger les données d'apprentissage (Data/passagers.csv) dans un DataFrame nommé train. Afficher 10 exemples."
      ]
    },
    {
      "cell_type": "code",
      "execution_count": 6,
      "metadata": {
        "_cell_guid": "2ce68358-02ec-556d-ba88-e773a50bc18b",
        "_uuid": "5ec0878acc5c7ab3903410e671c2a2c6cfeafeea",
        "id": "QuTLK2dTL72Y",
        "outputId": "7fb1b368-6fc0-47f4-8193-94f8d8c9f1d0",
        "colab": {
          "base_uri": "https://localhost:8080/"
        }
      },
      "outputs": [
        {
          "output_type": "stream",
          "name": "stdout",
          "text": [
            "Mounted at /content/drive\n"
          ]
        }
      ],
      "source": [
        "from google.colab import drive\n",
        "drive.mount('/content/drive')"
      ]
    },
    {
      "cell_type": "code",
      "source": [
        "train = pd.read_csv('/content/drive/MyDrive/Data_Science/passagers.csv')\n",
        "print(train.head(10))"
      ],
      "metadata": {
        "id": "z5vXW4w-Qkhd",
        "outputId": "734bc381-fd3f-4c2a-d64e-77f356310768",
        "colab": {
          "base_uri": "https://localhost:8080/"
        }
      },
      "execution_count": 7,
      "outputs": [
        {
          "output_type": "stream",
          "name": "stdout",
          "text": [
            "   PassengerId  Survived  Pclass  \\\n",
            "0            1         0       3   \n",
            "1            2         1       1   \n",
            "2            3         1       3   \n",
            "3            4         1       1   \n",
            "4            5         0       3   \n",
            "5            6         0       3   \n",
            "6            7         0       1   \n",
            "7            8         0       3   \n",
            "8            9         1       3   \n",
            "9           10         1       2   \n",
            "\n",
            "                                                Name     Sex   Age  SibSp  \\\n",
            "0                            Braund, Mr. Owen Harris    male  22.0      1   \n",
            "1  Cumings, Mrs. John Bradley (Florence Briggs Th...  female  38.0      1   \n",
            "2                             Heikkinen, Miss. Laina  female  26.0      0   \n",
            "3       Futrelle, Mrs. Jacques Heath (Lily May Peel)  female  35.0      1   \n",
            "4                           Allen, Mr. William Henry    male  35.0      0   \n",
            "5                                   Moran, Mr. James    male   NaN      0   \n",
            "6                            McCarthy, Mr. Timothy J    male  54.0      0   \n",
            "7                     Palsson, Master. Gosta Leonard    male   2.0      3   \n",
            "8  Johnson, Mrs. Oscar W (Elisabeth Vilhelmina Berg)  female  27.0      0   \n",
            "9                Nasser, Mrs. Nicholas (Adele Achem)  female  14.0      1   \n",
            "\n",
            "   Parch            Ticket     Fare Cabin Embarked  \n",
            "0      0         A/5 21171   7.2500   NaN        S  \n",
            "1      0          PC 17599  71.2833   C85        C  \n",
            "2      0  STON/O2. 3101282   7.9250   NaN        S  \n",
            "3      0            113803  53.1000  C123        S  \n",
            "4      0            373450   8.0500   NaN        S  \n",
            "5      0            330877   8.4583   NaN        Q  \n",
            "6      0             17463  51.8625   E46        S  \n",
            "7      1            349909  21.0750   NaN        S  \n",
            "8      2            347742  11.1333   NaN        S  \n",
            "9      0            237736  30.0708   NaN        C  \n"
          ]
        }
      ]
    },
    {
      "cell_type": "markdown",
      "metadata": {
        "id": "eZioUVZgL72Y"
      },
      "source": [
        "1.2 Charger les données d'apprentissage (Data/test.csv) dans un Dataframe nommé test. Afficher 10 exemples."
      ]
    },
    {
      "cell_type": "code",
      "execution_count": 8,
      "metadata": {
        "_cell_guid": "2ce68358-02ec-556d-ba88-e773a50bc18b",
        "_uuid": "5ec0878acc5c7ab3903410e671c2a2c6cfeafeea",
        "id": "WAEoNc18L72Z",
        "outputId": "88d44d91-5689-4b2e-f62d-c49b2c23fe0a",
        "colab": {
          "base_uri": "https://localhost:8080/"
        }
      },
      "outputs": [
        {
          "output_type": "stream",
          "name": "stdout",
          "text": [
            "   PassengerId  Pclass                                          Name     Sex  \\\n",
            "0          892       3                              Kelly, Mr. James    male   \n",
            "1          893       3              Wilkes, Mrs. James (Ellen Needs)  female   \n",
            "2          894       2                     Myles, Mr. Thomas Francis    male   \n",
            "3          895       3                              Wirz, Mr. Albert    male   \n",
            "4          896       3  Hirvonen, Mrs. Alexander (Helga E Lindqvist)  female   \n",
            "5          897       3                    Svensson, Mr. Johan Cervin    male   \n",
            "6          898       3                          Connolly, Miss. Kate  female   \n",
            "7          899       2                  Caldwell, Mr. Albert Francis    male   \n",
            "8          900       3     Abrahim, Mrs. Joseph (Sophie Halaut Easu)  female   \n",
            "9          901       3                       Davies, Mr. John Samuel    male   \n",
            "\n",
            "    Age  SibSp  Parch     Ticket     Fare Cabin Embarked  \n",
            "0  34.5      0      0     330911   7.8292   NaN        Q  \n",
            "1  47.0      1      0     363272   7.0000   NaN        S  \n",
            "2  62.0      0      0     240276   9.6875   NaN        Q  \n",
            "3  27.0      0      0     315154   8.6625   NaN        S  \n",
            "4  22.0      1      1    3101298  12.2875   NaN        S  \n",
            "5  14.0      0      0       7538   9.2250   NaN        S  \n",
            "6  30.0      0      0     330972   7.6292   NaN        Q  \n",
            "7  26.0      1      1     248738  29.0000   NaN        S  \n",
            "8  18.0      0      0       2657   7.2292   NaN        C  \n",
            "9  21.0      2      0  A/4 48871  24.1500   NaN        S  \n"
          ]
        }
      ],
      "source": [
        "test = pd.read_csv('/content/drive/MyDrive/Data_Science/test.csv')\n",
        "print(test.head(10))"
      ]
    },
    {
      "cell_type": "markdown",
      "metadata": {
        "id": "QCCz1v1vL72a"
      },
      "source": [
        "1.3 Afficher les informations des deux DataFrames train et Test."
      ]
    },
    {
      "cell_type": "code",
      "execution_count": null,
      "metadata": {
        "_cell_guid": "2ce68358-02ec-556d-ba88-e773a50bc18b",
        "_uuid": "5ec0878acc5c7ab3903410e671c2a2c6cfeafeea",
        "id": "QAKcKppgL72b",
        "outputId": "2edc70bf-3824-4f52-beaf-c669dc5332ed",
        "colab": {
          "base_uri": "https://localhost:8080/"
        }
      },
      "outputs": [
        {
          "output_type": "stream",
          "name": "stdout",
          "text": [
            "Informations du DataFrame train :\n",
            "<class 'pandas.core.frame.DataFrame'>\n",
            "RangeIndex: 891 entries, 0 to 890\n",
            "Data columns (total 12 columns):\n",
            " #   Column       Non-Null Count  Dtype  \n",
            "---  ------       --------------  -----  \n",
            " 0   PassengerId  891 non-null    int64  \n",
            " 1   Survived     891 non-null    int64  \n",
            " 2   Pclass       891 non-null    int64  \n",
            " 3   Name         891 non-null    object \n",
            " 4   Sex          891 non-null    object \n",
            " 5   Age          714 non-null    float64\n",
            " 6   SibSp        891 non-null    int64  \n",
            " 7   Parch        891 non-null    int64  \n",
            " 8   Ticket       891 non-null    object \n",
            " 9   Fare         891 non-null    float64\n",
            " 10  Cabin        204 non-null    object \n",
            " 11  Embarked     889 non-null    object \n",
            "dtypes: float64(2), int64(5), object(5)\n",
            "memory usage: 83.7+ KB\n",
            "None\n",
            "\n",
            "Premières lignes du DataFrame train :\n",
            "   PassengerId  Survived  Pclass  \\\n",
            "0            1         0       3   \n",
            "1            2         1       1   \n",
            "2            3         1       3   \n",
            "3            4         1       1   \n",
            "4            5         0       3   \n",
            "\n",
            "                                                Name     Sex   Age  SibSp  \\\n",
            "0                            Braund, Mr. Owen Harris    male  22.0      1   \n",
            "1  Cumings, Mrs. John Bradley (Florence Briggs Th...  female  38.0      1   \n",
            "2                             Heikkinen, Miss. Laina  female  26.0      0   \n",
            "3       Futrelle, Mrs. Jacques Heath (Lily May Peel)  female  35.0      1   \n",
            "4                           Allen, Mr. William Henry    male  35.0      0   \n",
            "\n",
            "   Parch            Ticket     Fare Cabin Embarked  \n",
            "0      0         A/5 21171   7.2500   NaN        S  \n",
            "1      0          PC 17599  71.2833   C85        C  \n",
            "2      0  STON/O2. 3101282   7.9250   NaN        S  \n",
            "3      0            113803  53.1000  C123        S  \n",
            "4      0            373450   8.0500   NaN        S  \n",
            "\n",
            "Informations du DataFrame test :\n",
            "<class 'pandas.core.frame.DataFrame'>\n",
            "RangeIndex: 418 entries, 0 to 417\n",
            "Data columns (total 11 columns):\n",
            " #   Column       Non-Null Count  Dtype  \n",
            "---  ------       --------------  -----  \n",
            " 0   PassengerId  418 non-null    int64  \n",
            " 1   Pclass       418 non-null    int64  \n",
            " 2   Name         418 non-null    object \n",
            " 3   Sex          418 non-null    object \n",
            " 4   Age          332 non-null    float64\n",
            " 5   SibSp        418 non-null    int64  \n",
            " 6   Parch        418 non-null    int64  \n",
            " 7   Ticket       418 non-null    object \n",
            " 8   Fare         417 non-null    float64\n",
            " 9   Cabin        91 non-null     object \n",
            " 10  Embarked     418 non-null    object \n",
            "dtypes: float64(2), int64(4), object(5)\n",
            "memory usage: 36.0+ KB\n",
            "None\n",
            "\n",
            "Premières lignes du DataFrame test :\n",
            "   PassengerId  Pclass                                          Name     Sex  \\\n",
            "0          892       3                              Kelly, Mr. James    male   \n",
            "1          893       3              Wilkes, Mrs. James (Ellen Needs)  female   \n",
            "2          894       2                     Myles, Mr. Thomas Francis    male   \n",
            "3          895       3                              Wirz, Mr. Albert    male   \n",
            "4          896       3  Hirvonen, Mrs. Alexander (Helga E Lindqvist)  female   \n",
            "\n",
            "    Age  SibSp  Parch   Ticket     Fare Cabin Embarked  \n",
            "0  34.5      0      0   330911   7.8292   NaN        Q  \n",
            "1  47.0      1      0   363272   7.0000   NaN        S  \n",
            "2  62.0      0      0   240276   9.6875   NaN        Q  \n",
            "3  27.0      0      0   315154   8.6625   NaN        S  \n",
            "4  22.0      1      1  3101298  12.2875   NaN        S  \n"
          ]
        }
      ],
      "source": [
        "# les infos du DataFrame train\n",
        "print(\"Informations du DataFrame train :\")\n",
        "print(train.info())\n",
        "print(\"\\nPremières lignes du DataFrame train :\")\n",
        "print(train.head())\n",
        "\n",
        "# les infos du DataFrame test\n",
        "print(\"\\nInformations du DataFrame test :\")\n",
        "print(test.info())\n",
        "print(\"\\nPremières lignes du DataFrame test :\")\n",
        "print(test.head())"
      ]
    },
    {
      "cell_type": "markdown",
      "metadata": {
        "id": "NFbDibBPL72b"
      },
      "source": [
        "1.4 Calculer le taux global de survie"
      ]
    },
    {
      "cell_type": "code",
      "execution_count": null,
      "metadata": {
        "id": "Y4uxNF26L72b",
        "outputId": "a48272c4-bb37-460d-deef-301f4b93270a",
        "colab": {
          "base_uri": "https://localhost:8080/"
        }
      },
      "outputs": [
        {
          "output_type": "stream",
          "name": "stdout",
          "text": [
            "Taux global de survie : 38.38%\n"
          ]
        }
      ],
      "source": [
        "# Survival DataFrame train\n",
        "survival_rate = train['Survived'].mean()\n",
        "print(f\"Taux global de survie : {survival_rate:.2%}\")"
      ]
    },
    {
      "cell_type": "markdown",
      "metadata": {
        "id": "aDmOaLR7L72c"
      },
      "source": [
        "\n"
      ]
    },
    {
      "cell_type": "markdown",
      "metadata": {
        "id": "-G1XT7nwL72c"
      },
      "source": [
        "#### Question 1 : Quel Travail voyez-vous pour que les données soient prêtes à faire tourner dans un modèle ?\n",
        "Pour préparer les données à être utilisées dans un modèle, des étapes de nettoyage et de transformation sont nécessaires. Par exemple, une étape de gestion de valeur manquante, la création de nouveaux targets, de l'encodage.\n",
        "\n",
        "\n",
        "\n",
        "\n",
        "#### Question 2 : Quelle différence y-a-t'il entre les données train et les données test ?\n",
        "\n",
        "Le DataFrame train contient un champ supplémentaire (Survived), qui indique si un passager a survécu. \"1\" si oui, \"0\" si non.\n",
        "\n",
        "\n",
        "\n",
        "\n",
        "#### Question 3 : Quel est le rôle de ces deux sets de données ?\n",
        "Le dataframe Train a pour role de jeu d'entraînement pour former le modèle. Ce dataframe nous apprend les relations entre les features et la variable cible\n",
        "\n",
        "Le dataframe Test a pour role d'évaluer le modèle sur des données qu'il n'a jamais vues.\n",
        "\n"
      ]
    },
    {
      "cell_type": "markdown",
      "metadata": {
        "_cell_guid": "f9595646-65c9-6fc4-395f-0befc4d122ce",
        "_uuid": "66273d64a2548d7a88464ab2a73dbdedfbdc488b",
        "id": "kYNxVsJVL72d"
      },
      "source": [
        "## 2. Analyse des features"
      ]
    },
    {
      "cell_type": "markdown",
      "metadata": {
        "_cell_guid": "9b4c278b-aaca-e92c-ba77-b9b48379d1f1",
        "_uuid": "c2b62e14d493c270ec8df9f3af1938c479361ef3",
        "id": "JCvZB8YiL72d"
      },
      "source": [
        "2.1 Analyser l'effet de la variable Classe sur le taux de survie, en affichant le % de survie par classe"
      ]
    },
    {
      "cell_type": "code",
      "execution_count": 11,
      "metadata": {
        "id": "DZpEaKx6L72d",
        "colab": {
          "base_uri": "https://localhost:8080/"
        },
        "outputId": "d813cd42-ab01-4e03-d42a-03cdf9c77c4a"
      },
      "outputs": [
        {
          "output_type": "stream",
          "name": "stdout",
          "text": [
            "Taux de survie par classe :\n",
            "Pclass\n",
            "1    62.962963\n",
            "2    47.282609\n",
            "3    24.236253\n",
            "Name: Survived, dtype: float64\n"
          ]
        }
      ],
      "source": [
        "# Analyse de la variable Classe (Pclass) sur le taux de survie\n",
        "class_survival = train.groupby('Pclass')['Survived'].mean() * 100\n",
        "print(\"Taux de survie par classe :\")\n",
        "print(class_survival)"
      ]
    },
    {
      "cell_type": "markdown",
      "metadata": {
        "_cell_guid": "4680d950-cf7d-a6ae-e813-535e2247d88e",
        "_uuid": "f02533e7b85bba0cca7fcf2cc598c8da92d7646d",
        "id": "A7_4U9dTL72d"
      },
      "source": [
        "2.2 Analyser l'effet de la variable Genre (Sex) sur le taux de survie, en affichant le % de survie par classe"
      ]
    },
    {
      "cell_type": "code",
      "execution_count": 12,
      "metadata": {
        "_cell_guid": "4680d950-cf7d-a6ae-e813-535e2247d88e",
        "_uuid": "f02533e7b85bba0cca7fcf2cc598c8da92d7646d",
        "id": "fgZrp4OTL72d",
        "colab": {
          "base_uri": "https://localhost:8080/"
        },
        "outputId": "4512d34a-2fed-40c1-cf24-a877e6a9366f"
      },
      "outputs": [
        {
          "output_type": "stream",
          "name": "stdout",
          "text": [
            "Taux de survie par genre :\n",
            "Sex\n",
            "female    74.203822\n",
            "male      18.890815\n",
            "Name: Survived, dtype: float64\n"
          ]
        }
      ],
      "source": [
        "# Analyse la variable Genre (Sex) sur le taux de survie\n",
        "gender_survival = train.groupby('Sex')['Survived'].mean() * 100\n",
        "print(\"Taux de survie par genre :\")\n",
        "print(gender_survival)"
      ]
    },
    {
      "cell_type": "markdown",
      "metadata": {
        "_cell_guid": "7c58b7ee-d6a1-0cc9-2346-81c47846a54a",
        "_uuid": "88185e9222c26d5d23caaeb209c18710a231b5f9",
        "id": "mevwuykRL72e"
      },
      "source": [
        "2.3 Calculer une nouvelle colonne FamilySize contenant la taille de la famille, pour les DataFrame train et Test. Afficher pour 10 exemples l'Id du passager, le nom, l'age, le sexe et la taille de la famille."
      ]
    },
    {
      "cell_type": "code",
      "execution_count": 13,
      "metadata": {
        "_cell_guid": "1a537f10-7cec-d0b7-8a34-fa9975655190",
        "_uuid": "ccc4a4cf7624dd4be450fd62ca3ad478d4e75696",
        "id": "iR-Op2B1L72e",
        "colab": {
          "base_uri": "https://localhost:8080/"
        },
        "outputId": "5e226601-4baf-4dab-eb52-ccefb474b1e3"
      },
      "outputs": [
        {
          "output_type": "stream",
          "name": "stdout",
          "text": [
            "Aperçu de la colonne FamilySize dans le DataFrame train :\n",
            "   PassengerId                                               Name   Age  \\\n",
            "0            1                            Braund, Mr. Owen Harris  22.0   \n",
            "1            2  Cumings, Mrs. John Bradley (Florence Briggs Th...  38.0   \n",
            "2            3                             Heikkinen, Miss. Laina  26.0   \n",
            "3            4       Futrelle, Mrs. Jacques Heath (Lily May Peel)  35.0   \n",
            "4            5                           Allen, Mr. William Henry  35.0   \n",
            "5            6                                   Moran, Mr. James   NaN   \n",
            "6            7                            McCarthy, Mr. Timothy J  54.0   \n",
            "7            8                     Palsson, Master. Gosta Leonard   2.0   \n",
            "8            9  Johnson, Mrs. Oscar W (Elisabeth Vilhelmina Berg)  27.0   \n",
            "9           10                Nasser, Mrs. Nicholas (Adele Achem)  14.0   \n",
            "\n",
            "      Sex  FamilySize  \n",
            "0    male           2  \n",
            "1  female           2  \n",
            "2  female           1  \n",
            "3  female           2  \n",
            "4    male           1  \n",
            "5    male           1  \n",
            "6    male           1  \n",
            "7    male           5  \n",
            "8  female           3  \n",
            "9  female           2  \n",
            "\n",
            "Aperçu de la colonne FamilySize dans le DataFrame test :\n",
            "   PassengerId                                          Name   Age     Sex  \\\n",
            "0          892                              Kelly, Mr. James  34.5    male   \n",
            "1          893              Wilkes, Mrs. James (Ellen Needs)  47.0  female   \n",
            "2          894                     Myles, Mr. Thomas Francis  62.0    male   \n",
            "3          895                              Wirz, Mr. Albert  27.0    male   \n",
            "4          896  Hirvonen, Mrs. Alexander (Helga E Lindqvist)  22.0  female   \n",
            "5          897                    Svensson, Mr. Johan Cervin  14.0    male   \n",
            "6          898                          Connolly, Miss. Kate  30.0  female   \n",
            "7          899                  Caldwell, Mr. Albert Francis  26.0    male   \n",
            "8          900     Abrahim, Mrs. Joseph (Sophie Halaut Easu)  18.0  female   \n",
            "9          901                       Davies, Mr. John Samuel  21.0    male   \n",
            "\n",
            "   FamilySize  \n",
            "0           1  \n",
            "1           2  \n",
            "2           1  \n",
            "3           1  \n",
            "4           3  \n",
            "5           1  \n",
            "6           1  \n",
            "7           3  \n",
            "8           1  \n",
            "9           3  \n"
          ]
        }
      ],
      "source": [
        "# Ajout de la colonne FamilySize pour \"train\" et \"test\"\n",
        "train['FamilySize'] = train['SibSp'] + train['Parch'] + 1\n",
        "test['FamilySize'] = test['SibSp'] + test['Parch'] + 1\n",
        "\n",
        "# DataFrame train\n",
        "print(\"Aperçu de la colonne FamilySize dans le DataFrame train :\")\n",
        "print(train[['PassengerId', 'Name', 'Age', 'Sex', 'FamilySize']].head(10))\n",
        "\n",
        "# DataFrame test\n",
        "print(\"\\nAperçu de la colonne FamilySize dans le DataFrame test :\")\n",
        "print(test[['PassengerId', 'Name', 'Age', 'Sex', 'FamilySize']].head(10))\n"
      ]
    },
    {
      "cell_type": "markdown",
      "metadata": {
        "id": "5MmDOwdML72e"
      },
      "source": [
        "2.4 Visualisez le nombre de personnes et le taux de survie par taille de famille."
      ]
    },
    {
      "cell_type": "code",
      "execution_count": 14,
      "metadata": {
        "_cell_guid": "1a537f10-7cec-d0b7-8a34-fa9975655190",
        "_uuid": "ccc4a4cf7624dd4be450fd62ca3ad478d4e75696",
        "id": "w24fjZ5kL72e",
        "colab": {
          "base_uri": "https://localhost:8080/"
        },
        "outputId": "cb277b16-c4f4-452e-c0e6-7980092debb3"
      },
      "outputs": [
        {
          "output_type": "stream",
          "name": "stdout",
          "text": [
            "\n",
            "Nombre de personnes et taux de survie par taille de famille :\n",
            "            count       mean\n",
            "FamilySize                  \n",
            "1             537  30.353818\n",
            "2             161  55.279503\n",
            "3             102  57.843137\n",
            "4              29  72.413793\n",
            "5              15  20.000000\n",
            "6              22  13.636364\n",
            "7              12  33.333333\n",
            "8               6   0.000000\n",
            "11              7   0.000000\n"
          ]
        }
      ],
      "source": [
        "# Visualisation du nombre de personnes et le taux de survie par taille de famille\n",
        "family_survival = train.groupby('FamilySize')['Survived'].agg(['count', 'mean'])\n",
        "family_survival['mean'] = family_survival['mean'] * 100\n",
        "\n",
        "print(\"\\nNombre de personnes et taux de survie par taille de famille :\")\n",
        "print(family_survival)"
      ]
    },
    {
      "cell_type": "markdown",
      "metadata": {
        "_cell_guid": "7c58b7ee-d6a1-0cc9-2346-81c47846a54a",
        "_uuid": "88185e9222c26d5d23caaeb209c18710a231b5f9",
        "id": "OQFHVEXDL72e"
      },
      "source": [
        "2.5 Calculer une nouvelle colonne IsAlone indiquant si le passager est seul ou pas, pour les DataFrame train et Test. Afficher pour 10 exemples l'Id du passager, le nom, l'age, le sexe et le status IsAlone."
      ]
    },
    {
      "cell_type": "code",
      "execution_count": 15,
      "metadata": {
        "_cell_guid": "8c35e945-c928-e3bc-bd9c-d6ddb287e4c9",
        "_uuid": "87f79dc0711c29f39c0db1a4f7a2e8a84c0c7edb",
        "id": "TYqK-MKPL72f",
        "colab": {
          "base_uri": "https://localhost:8080/"
        },
        "outputId": "9132cc94-a7e7-49f3-9c60-4215296fa8c7"
      },
      "outputs": [
        {
          "output_type": "stream",
          "name": "stdout",
          "text": [
            "\n",
            "Exemples de la colonne IsAlone (train) :\n",
            "   PassengerId                                               Name   Age  \\\n",
            "0            1                            Braund, Mr. Owen Harris  22.0   \n",
            "1            2  Cumings, Mrs. John Bradley (Florence Briggs Th...  38.0   \n",
            "2            3                             Heikkinen, Miss. Laina  26.0   \n",
            "3            4       Futrelle, Mrs. Jacques Heath (Lily May Peel)  35.0   \n",
            "4            5                           Allen, Mr. William Henry  35.0   \n",
            "5            6                                   Moran, Mr. James   NaN   \n",
            "6            7                            McCarthy, Mr. Timothy J  54.0   \n",
            "7            8                     Palsson, Master. Gosta Leonard   2.0   \n",
            "8            9  Johnson, Mrs. Oscar W (Elisabeth Vilhelmina Berg)  27.0   \n",
            "9           10                Nasser, Mrs. Nicholas (Adele Achem)  14.0   \n",
            "\n",
            "      Sex  IsAlone  \n",
            "0    male        0  \n",
            "1  female        0  \n",
            "2  female        1  \n",
            "3  female        0  \n",
            "4    male        1  \n",
            "5    male        1  \n",
            "6    male        1  \n",
            "7    male        0  \n",
            "8  female        0  \n",
            "9  female        0  \n",
            "\n",
            "Exemples de la colonne IsAlone (test) :\n",
            "   PassengerId                                          Name   Age     Sex  \\\n",
            "0          892                              Kelly, Mr. James  34.5    male   \n",
            "1          893              Wilkes, Mrs. James (Ellen Needs)  47.0  female   \n",
            "2          894                     Myles, Mr. Thomas Francis  62.0    male   \n",
            "3          895                              Wirz, Mr. Albert  27.0    male   \n",
            "4          896  Hirvonen, Mrs. Alexander (Helga E Lindqvist)  22.0  female   \n",
            "5          897                    Svensson, Mr. Johan Cervin  14.0    male   \n",
            "6          898                          Connolly, Miss. Kate  30.0  female   \n",
            "7          899                  Caldwell, Mr. Albert Francis  26.0    male   \n",
            "8          900     Abrahim, Mrs. Joseph (Sophie Halaut Easu)  18.0  female   \n",
            "9          901                       Davies, Mr. John Samuel  21.0    male   \n",
            "\n",
            "   IsAlone  \n",
            "0        1  \n",
            "1        0  \n",
            "2        1  \n",
            "3        1  \n",
            "4        0  \n",
            "5        1  \n",
            "6        1  \n",
            "7        0  \n",
            "8        1  \n",
            "9        0  \n"
          ]
        }
      ],
      "source": [
        "train['IsAlone'] = (train['FamilySize'] == 1).astype(int)\n",
        "test['IsAlone'] = (test['FamilySize'] == 1).astype(int)\n",
        "\n",
        "print(\"\\nExemples de la colonne IsAlone (train) :\")\n",
        "print(train[['PassengerId', 'Name', 'Age', 'Sex', 'IsAlone']].head(10))\n",
        "\n",
        "print(\"\\nExemples de la colonne IsAlone (test) :\")\n",
        "print(test[['PassengerId', 'Name', 'Age', 'Sex', 'IsAlone']].head(10))"
      ]
    },
    {
      "cell_type": "markdown",
      "metadata": {
        "id": "tlRfiDHjL72f"
      },
      "source": [
        "2.6 Visualisez le nombre de personnes et le taux de survie par statut seul ou pas."
      ]
    },
    {
      "cell_type": "code",
      "execution_count": 16,
      "metadata": {
        "_cell_guid": "8c35e945-c928-e3bc-bd9c-d6ddb287e4c9",
        "_uuid": "87f79dc0711c29f39c0db1a4f7a2e8a84c0c7edb",
        "id": "GlCbYTGQL72f",
        "colab": {
          "base_uri": "https://localhost:8080/"
        },
        "outputId": "ae9bbef4-1f99-407e-b052-597c5a1d6db0"
      },
      "outputs": [
        {
          "output_type": "stream",
          "name": "stdout",
          "text": [
            "Taux de survie par statut seul ou pas\n",
            "IsAlone\n",
            "0    0.505650\n",
            "1    0.303538\n",
            "Name: Survived, dtype: float64\n"
          ]
        }
      ],
      "source": [
        "# Visualisation par statut seul ou pas\n",
        "isalone_survival = train.groupby('IsAlone')['Survived'].mean()\n",
        "\n",
        "print(\"Taux de survie par statut seul ou pas\")\n",
        "print(isalone_survival)\n"
      ]
    },
    {
      "cell_type": "markdown",
      "metadata": {
        "id": "3FqzP1ZhL72f"
      },
      "source": [
        "2.7 Calculer l'information mutuelle sur les données train.\n",
        "\n",
        "Attention : Il y a des données continues et des données discrètes\n",
        "\n",
        "Ignorer les colonnes Name, Ticket et Cabin"
      ]
    },
    {
      "cell_type": "code",
      "execution_count": 20,
      "metadata": {
        "id": "sbvrqSvhL72f",
        "colab": {
          "base_uri": "https://localhost:8080/"
        },
        "outputId": "388a412b-41f7-4748-cf4a-5d5b9f26da19"
      },
      "outputs": [
        {
          "output_type": "stream",
          "name": "stdout",
          "text": [
            "Scores d'information mutuelle :\n",
            "Fare          0.159265\n",
            "Sex           0.123276\n",
            "Age           0.052158\n",
            "Embarked      0.049653\n",
            "IsAlone       0.042324\n",
            "FamilySize    0.030677\n",
            "Pclass        0.027579\n",
            "SibSp         0.002177\n",
            "Parch         0.000000\n",
            "dtype: float64\n"
          ]
        }
      ],
      "source": [
        "from sklearn.feature_selection import mutual_info_regression\n",
        "\n",
        "# Préparer les données pour le calcul\n",
        "features = ['Pclass', 'Sex', 'Age', 'SibSp', 'Parch', 'Fare', 'Embarked', 'FamilySize', 'IsAlone']\n",
        "X = train[features].copy()\n",
        "\n",
        "# Encodage des variables catégoriques et gestion des NaN\n",
        "X['Sex'] = X['Sex'].map({'male': 0, 'female': 1})\n",
        "X['Embarked'] = X['Embarked'].map({'C': 0, 'Q': 1, 'S': 2})\n",
        "X.fillna(0, inplace=True)\n",
        "\n",
        "y = train['Survived']\n",
        "\n",
        "# Calcul de l'information mutuelle\n",
        "mi_scores = mutual_info_regression(X, y)\n",
        "mi_scores = pd.Series(mi_scores, index=features).sort_values(ascending=False)\n",
        "\n",
        "# Afficher les scores\n",
        "print(\"Scores d'information mutuelle :\")\n",
        "print(mi_scores)"
      ]
    },
    {
      "cell_type": "markdown",
      "metadata": {
        "id": "UrQeVfRaL72f"
      },
      "source": [
        "2.8 Afficher dans un graphique les scores d'information mutuelle par feature"
      ]
    },
    {
      "cell_type": "code",
      "execution_count": 22,
      "metadata": {
        "id": "2AQFxwC8L72f",
        "colab": {
          "base_uri": "https://localhost:8080/",
          "height": 604
        },
        "outputId": "8c5fbb07-0f7b-4bf0-e3d6-c3c097f2e606"
      },
      "outputs": [
        {
          "output_type": "display_data",
          "data": {
            "text/plain": [
              "<Figure size 1000x600 with 1 Axes>"
            ],
            "image/png": "[encoded data removed]"
          },
          "metadata": {}
        }
      ],
      "source": [
        "import matplotlib.pyplot as plt\n",
        "\n",
        "plt.figure(figsize=(10, 6))\n",
        "mi_scores.plot(kind='bar')\n",
        "plt.title(\"Scores d'information mutuelle par feature\")\n",
        "plt.ylabel(\"Score\")\n",
        "plt.show()"
      ]
    },
    {
      "cell_type": "markdown",
      "metadata": {
        "id": "0Kw7iRGnL72g"
      },
      "source": [
        "### Question 1 : La variable Classe est-elle utile pour prévoir la survie ? Pourquoi ?\n",
        "\n",
        "Oui, la variable Pclass (Classe) est utile pour prévoir la survie, car les analyses montrent le lien entre la classe et le taux de survie. Exemple : 1ère classe : taux de survie élevé,\n",
        "2ème classe : taux de survie intermédiaire,\n",
        "3ème classe : taux de survie faible\n",
        "\n",
        "\n",
        "### Question 2 : Même question pour la variable Sex\n",
        "Oui, la variable Sex (Genre) est très utile pour prévoir la survie. Lors de l'analyse, on constate que les femmes ont un taux de survie significativement plus élevé que les hommes :\n",
        "\n",
        "Femmes : Taux de survie élevé (~75%).\n",
        "Hommes : Taux de survie faible (~20-25%).\n",
        "\n",
        "### Question 3 : Comment traiter le variables liées à la famille du passager ?\n",
        "\n",
        "FamilySize est la variable la plus pertinente (score ~0.043) parmi celles liées à la famille. Elle capture efficacement les informations de SibSp et Parch. Il est donc préférable d'utiliser FamilySize directement, ou d'explorer d'autres transformations combinant ces variables pour maximiser leur impact.\n",
        "\n",
        "\n",
        "\n"
      ]
    },
    {
      "cell_type": "markdown",
      "source": [],
      "metadata": {
        "id": "xrQt1ZT-c2V_"
      }
    },
    {
      "cell_type": "markdown",
      "metadata": {
        "id": "W30IWmKPL72g"
      },
      "source": [
        "## 3. Traitement des données manquantes (à faire sur les données Train et Test)"
      ]
    },
    {
      "cell_type": "markdown",
      "metadata": {
        "_cell_guid": "8aa419c0-6614-7efc-7797-97f4a5158b19",
        "_uuid": "dd18a31086cfeca6330b05f83caf3cc02f687253",
        "id": "n_mBVkykL72g"
      },
      "source": [
        "3.1 La variable \"Embarked\" possède des valeurs nulles, compléter par la valeur majoritaire (S)."
      ]
    },
    {
      "cell_type": "code",
      "execution_count": 23,
      "metadata": {
        "_cell_guid": "0e70e9af-d7cc-8c40-b7d4-2643889c376d",
        "_uuid": "b4f7ccb3df98da6915bda1c7c225b905fc37845b",
        "id": "-Gxzz7M9L72g",
        "colab": {
          "base_uri": "https://localhost:8080/"
        },
        "outputId": "8a7cff0e-e2f4-4005-de40-98c47671b21a"
      },
      "outputs": [
        {
          "output_type": "stream",
          "name": "stdout",
          "text": [
            "Valeurs manquantes dans Embarked corrigées.\n"
          ]
        },
        {
          "output_type": "stream",
          "name": "stderr",
          "text": [
            "<ipython-input-23-a82b1e57a6e6>:3: FutureWarning: A value is trying to be set on a copy of a DataFrame or Series through chained assignment using an inplace method.\n",
            "The behavior will change in pandas 3.0. This inplace method will never work because the intermediate object on which we are setting values always behaves as a copy.\n",
            "\n",
            "For example, when doing 'df[col].method(value, inplace=True)', try using 'df.method({col: value}, inplace=True)' or df[col] = df[col].method(value) instead, to perform the operation inplace on the original object.\n",
            "\n",
            "\n",
            "  train['Embarked'].fillna(train['Embarked'].mode()[0], inplace=True)\n",
            "<ipython-input-23-a82b1e57a6e6>:4: FutureWarning: A value is trying to be set on a copy of a DataFrame or Series through chained assignment using an inplace method.\n",
            "The behavior will change in pandas 3.0. This inplace method will never work because the intermediate object on which we are setting values always behaves as a copy.\n",
            "\n",
            "For example, when doing 'df[col].method(value, inplace=True)', try using 'df.method({col: value}, inplace=True)' or df[col] = df[col].method(value) instead, to perform the operation inplace on the original object.\n",
            "\n",
            "\n",
            "  test['Embarked'].fillna(test['Embarked'].mode()[0], inplace=True)\n"
          ]
        }
      ],
      "source": [
        "# Remplissage des valeurs nulles de la variable Embarked\n",
        "\n",
        "train['Embarked'].fillna(train['Embarked'].mode()[0], inplace=True)\n",
        "test['Embarked'].fillna(test['Embarked'].mode()[0], inplace=True)\n",
        "\n",
        "print(\"Valeurs manquantes dans Embarked corrigées.\")\n"
      ]
    },
    {
      "cell_type": "markdown",
      "metadata": {
        "id": "tDonBDswL72g"
      },
      "source": [
        "3.2 Afficher l'influence du port d'embarquement sur la Survie"
      ]
    },
    {
      "cell_type": "code",
      "execution_count": 24,
      "metadata": {
        "_cell_guid": "0e70e9af-d7cc-8c40-b7d4-2643889c376d",
        "_uuid": "b4f7ccb3df98da6915bda1c7c225b905fc37845b",
        "id": "lPJuCzU0L72g",
        "colab": {
          "base_uri": "https://localhost:8080/"
        },
        "outputId": "1877aeea-30b8-4cb3-8d0c-4c88ab2c7ced"
      },
      "outputs": [
        {
          "output_type": "stream",
          "name": "stdout",
          "text": [
            "Taux de survie par port d'embarquement :\n",
            "Embarked\n",
            "C    55.357143\n",
            "Q    38.961039\n",
            "S    33.900929\n",
            "Name: Survived, dtype: float64\n"
          ]
        }
      ],
      "source": [
        "# Influence du port d'embarquement sur la survie\n",
        "embarked_survival = train.groupby('Embarked')['Survived'].mean() * 100\n",
        "print(\"Taux de survie par port d'embarquement :\")\n",
        "print(embarked_survival)"
      ]
    },
    {
      "cell_type": "markdown",
      "metadata": {
        "_cell_guid": "e08c9ee8-d6d1-99b7-38bd-f0042c18a5d9",
        "_uuid": "bbeb369d4bb1b086fcc3257218fdeeb6bcdb53c0",
        "id": "HF5oR6jIL72h"
      },
      "source": [
        "3.3 La variable \"Fare\" (prix du ticket) possède des valeurs manquantes. Remplacer ces valeurs par la valeur médiane."
      ]
    },
    {
      "cell_type": "code",
      "execution_count": null,
      "metadata": {
        "_cell_guid": "a21335bd-4e8d-66e8-e6a5-5d2173b72d3b",
        "_uuid": "f04975f236aad78d3f93812512088404b5c9280e",
        "id": "8K4EfSMuL72h"
      },
      "outputs": [],
      "source": []
    },
    {
      "cell_type": "markdown",
      "metadata": {
        "id": "qubEZUTiL72m"
      },
      "source": [
        "3.4 Créer une variable CategoricalFare Découpant la valeur de ticket en 4 catégories de tailles à peu près égales."
      ]
    },
    {
      "cell_type": "code",
      "execution_count": null,
      "metadata": {
        "_cell_guid": "a21335bd-4e8d-66e8-e6a5-5d2173b72d3b",
        "_uuid": "f04975f236aad78d3f93812512088404b5c9280e",
        "id": "KFbX8xrrL72m"
      },
      "outputs": [],
      "source": []
    },
    {
      "cell_type": "markdown",
      "metadata": {
        "id": "0xlwhK3UL72m"
      },
      "source": [
        "3.5 Analyser l'effet de ces catégories de prix de ticket sur la survie."
      ]
    },
    {
      "cell_type": "code",
      "execution_count": null,
      "metadata": {
        "_cell_guid": "a21335bd-4e8d-66e8-e6a5-5d2173b72d3b",
        "_uuid": "f04975f236aad78d3f93812512088404b5c9280e",
        "id": "pARDxvD5L72m"
      },
      "outputs": [],
      "source": []
    },
    {
      "cell_type": "markdown",
      "metadata": {
        "id": "D1ednQqUL72m"
      },
      "source": [
        "3.6 Combien de valeurs d'Age manquent ? Complète par des valeurs entières aléatoires entre (moyenne - écart type) et (moyenne + écart type)."
      ]
    },
    {
      "cell_type": "code",
      "execution_count": null,
      "metadata": {
        "_cell_guid": "b90c2870-ce5d-ae0e-a33d-59e35445500e",
        "_uuid": "2af2b56d51752be08b84dbb2684466976758faa7",
        "id": "7mztiVqzL72m"
      },
      "outputs": [],
      "source": []
    },
    {
      "cell_type": "markdown",
      "metadata": {
        "id": "am5x2uRvL72m"
      },
      "source": [
        "3.7 Créer une variable CategoricalAge Découpant la valeur d'age en 5 tranches d'age de même taille."
      ]
    },
    {
      "cell_type": "code",
      "execution_count": null,
      "metadata": {
        "_cell_guid": "b90c2870-ce5d-ae0e-a33d-59e35445500e",
        "_uuid": "2af2b56d51752be08b84dbb2684466976758faa7",
        "id": "rUOMfct8L72n"
      },
      "outputs": [],
      "source": []
    },
    {
      "cell_type": "markdown",
      "metadata": {
        "id": "NhJowH2mL72n"
      },
      "source": [
        "3.8 Analyser l'effet de ces catégories de prix de ticket sur la survie."
      ]
    },
    {
      "cell_type": "code",
      "execution_count": null,
      "metadata": {
        "id": "BN0rjvDfL72n"
      },
      "outputs": [],
      "source": []
    },
    {
      "cell_type": "markdown",
      "metadata": {
        "id": "DcEr5cbjL72n"
      },
      "source": [
        "### Question 1 : Classer les variables par ordre d'intérêt"
      ]
    },
    {
      "cell_type": "markdown",
      "metadata": {
        "id": "27laLhR0L72n"
      },
      "source": [
        "## 4 : Traitement de features complexes"
      ]
    },
    {
      "cell_type": "markdown",
      "metadata": {
        "_cell_guid": "bd25ec3f-b601-c1cc-d701-991fac1621f9",
        "_uuid": "17f6d181260d68d89f0a5dfa99b40a82b723567c",
        "id": "Y2M4rRMaL72n"
      },
      "source": [
        "4.1 : Le nom permet de retrouver le titre du passager. Trouver les titres lorsqu'ils existent."
      ]
    },
    {
      "cell_type": "code",
      "execution_count": null,
      "metadata": {
        "_cell_guid": "ad042f43-bfe0-ded0-4171-379d8caaa749",
        "_uuid": "5a56f5b4bad78d7e323167c5f0cc07cb3675187a",
        "id": "r_0VBYwgL72n"
      },
      "outputs": [],
      "source": []
    },
    {
      "cell_type": "markdown",
      "metadata": {
        "id": "lhvpNUk2L72n"
      },
      "source": [
        "4.2 : En utilisant la fonction pandas crosstab, afficher pour train le nombre d'occurences par titres (en ligne) et par sexe (en colonne)"
      ]
    },
    {
      "cell_type": "code",
      "execution_count": null,
      "metadata": {
        "id": "KRrKCAJEL72o"
      },
      "outputs": [],
      "source": []
    },
    {
      "cell_type": "markdown",
      "metadata": {
        "_cell_guid": "ca5fff8c-7a0d-6c18-2173-b8df6293c50a",
        "_uuid": "84862f8cbbe2ea72b69a9cba78c6b7e10c80626e",
        "id": "5PODLyFxL72o"
      },
      "source": [
        "4.3 :\n",
        "Remplacer 'Melle et 'Ms' par 'Miss'\n",
        "\n",
        "Remplacer 'Mme' par 'Mrs'\n",
        "\n",
        "Creer une valeur \"Rare\" pour les autres titres avec moins de 10 occurences.\n",
        "\n",
        "Calculer ensuite le taux de survie par titre"
      ]
    },
    {
      "cell_type": "code",
      "execution_count": null,
      "metadata": {
        "_cell_guid": "8357238b-98fe-632a-acd5-33674a6132ce",
        "_uuid": "db0029466612ad0550fc0eebef4a06a5507d6c3d",
        "id": "a-hU0p4IL72o"
      },
      "outputs": [],
      "source": []
    },
    {
      "cell_type": "markdown",
      "metadata": {
        "_cell_guid": "68fa2057-e27a-e252-0d1b-869c00a303ba",
        "_uuid": "52bcf7b36b8edb12d40f2a1f9e80060b55d91ad3",
        "id": "FiVpnMSkL72o"
      },
      "source": [
        "## 5. Mise en forme des données non numériques"
      ]
    },
    {
      "cell_type": "markdown",
      "metadata": {
        "id": "ZFqc5k4QL72o"
      },
      "source": [
        "5.1 Attribuer une valeur numérique au Genre. Par exemple 0 pour 'female' et 1 pour 'male'"
      ]
    },
    {
      "cell_type": "code",
      "execution_count": null,
      "metadata": {
        "id": "ufRK4A0uL72o"
      },
      "outputs": [],
      "source": []
    },
    {
      "cell_type": "markdown",
      "metadata": {
        "id": "6W_ayRZGL72o"
      },
      "source": [
        "5.2 : Attribuer une valeur pour les possibilités de la variable \"Title\" ('Master','Miss','Mr','Mrs','Rare')"
      ]
    },
    {
      "cell_type": "code",
      "execution_count": null,
      "metadata": {
        "id": "bbC-ms9_L72o"
      },
      "outputs": [],
      "source": []
    },
    {
      "cell_type": "markdown",
      "metadata": {
        "id": "0lxTjWy2L72o"
      },
      "source": [
        "5.3 Remplacer les titres manquant par 0, et attribuer à la colonne le type entier"
      ]
    },
    {
      "cell_type": "code",
      "execution_count": null,
      "metadata": {
        "id": "6geVX9PcL72o"
      },
      "outputs": [],
      "source": []
    },
    {
      "cell_type": "markdown",
      "metadata": {
        "id": "ptzRsPbLL72p"
      },
      "source": [
        "5.4 Attribuer une valeur numérique aux 4 catégories de la variable Fare"
      ]
    },
    {
      "cell_type": "code",
      "execution_count": null,
      "metadata": {
        "id": "b7WTEuUwL72p"
      },
      "outputs": [],
      "source": []
    },
    {
      "cell_type": "markdown",
      "metadata": {
        "id": "xhanaYzIL72p"
      },
      "source": [
        "5.5 Attibuer une valeur numérique au Port d'embarquement (Embarked)"
      ]
    },
    {
      "cell_type": "code",
      "execution_count": null,
      "metadata": {
        "id": "GiJ3MR9CL72p"
      },
      "outputs": [],
      "source": []
    },
    {
      "cell_type": "markdown",
      "metadata": {
        "id": "F_uj2aRxL72p"
      },
      "source": [
        "5.6 Supprimer les features inutiles"
      ]
    },
    {
      "cell_type": "code",
      "execution_count": null,
      "metadata": {
        "id": "HDwLzYIFL72p"
      },
      "outputs": [],
      "source": []
    },
    {
      "cell_type": "markdown",
      "metadata": {
        "id": "F1zNjahxL72p"
      },
      "source": [
        "5.7 Afficher les infos pour les deux datasets"
      ]
    },
    {
      "cell_type": "code",
      "execution_count": null,
      "metadata": {
        "id": "LFAeRC77L72p"
      },
      "outputs": [],
      "source": []
    },
    {
      "cell_type": "markdown",
      "metadata": {
        "id": "QXgzjVT3L72p"
      },
      "source": [
        "5.8 Sauver les deux datasets dans des fichier csv. Eviter d'écrire un index (n° de ligne)"
      ]
    },
    {
      "cell_type": "code",
      "execution_count": null,
      "metadata": {
        "_cell_guid": "2502bb70-ce6f-2497-7331-7d1f80521470",
        "_uuid": "1aa110c1043f1f43c091a771abc64054a211f784",
        "id": "lDX6A72eL72p"
      },
      "outputs": [],
      "source": []
    }
  ],
  "metadata": {
    "_change_revision": 0,
    "_is_fork": false,
    "kernelspec": {
      "display_name": "Python 3",
      "language": "python",
      "name": "python3"
    },
    "language_info": {
      "codemirror_mode": {
        "name": "ipython",
        "version": 3
      },
      "file_extension": ".py",
      "mimetype": "text/x-python",
      "name": "python",
      "nbconvert_exporter": "python",
      "pygments_lexer": "ipython3",
      "version": "3.7.4"
    },
    "colab": {
      "provenance": [],
      "history_visible": true
    }
  },
  "nbformat": 4,
  "nbformat_minor": 0
}