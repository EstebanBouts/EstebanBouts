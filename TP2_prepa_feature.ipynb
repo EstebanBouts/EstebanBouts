{
  "cells": [
    {
      "cell_type": "markdown",
      "metadata": {
        "id": "ydC6VIsWL72Q"
      },
      "source": [
        "## Import des librairies ##"
      ]
    },
    {
      "cell_type": "code",
      "execution_count": 1,
      "metadata": {
        "id": "6BdiiIDrL72T"
      },
      "outputs": [],
      "source": [
        "#Imports librairies de base\n",
        "import numpy as np\n",
        "import pandas as pd\n",
        "\n",
        "#Affichage de Graphes\n",
        "from IPython.display import Markdown, display, HTML\n",
        "import matplotlib.pyplot as plt\n",
        "\n",
        "#Information Mutuelle\n",
        "from sklearn.feature_selection import mutual_info_regression\n"
      ]
    },
    {
      "cell_type": "markdown",
      "metadata": {
        "_cell_guid": "25b1e1db-8bc5-7029-f719-91da523bd121",
        "_uuid": "5c867fcbb300bcf3c9b8986bba9949da2a2df931",
        "id": "ID9JmY2oL72W"
      },
      "source": [
        "## 1. Lecture des données ##"
      ]
    },
    {
      "cell_type": "markdown",
      "metadata": {
        "id": "ejgekOQhL72X"
      },
      "source": [
        ":1.1 Charger les données d'apprentissage (Data/passagers.csv) dans un DataFrame nommé train. Afficher 10 exemples."
      ]
    },
    {
      "cell_type": "code",
      "execution_count": 11,
      "metadata": {
        "_cell_guid": "2ce68358-02ec-556d-ba88-e773a50bc18b",
        "_uuid": "5ec0878acc5c7ab3903410e671c2a2c6cfeafeea",
        "id": "QuTLK2dTL72Y",
        "outputId": "f065bc0a-77f2-4aa1-c715-6949f2db9947",
        "colab": {
          "base_uri": "https://localhost:8080/"
        }
      },
      "outputs": [
        {
          "output_type": "stream",
          "name": "stdout",
          "text": [
            "Drive already mounted at /content/drive; to attempt to forcibly remount, call drive.mount(\"/content/drive\", force_remount=True).\n"
          ]
        }
      ],
      "source": [
        "from google.colab import drive\n",
        "drive.mount('/content/drive')"
      ]
    },
    {
      "cell_type": "code",
      "source": [
        "train = pd.read_csv('/content/drive/MyDrive/Data_Science/passagers.csv')\n",
        "print(train.head(10))"
      ],
      "metadata": {
        "id": "z5vXW4w-Qkhd",
        "outputId": "e4115072-755e-40a0-df9a-1e67b509ec9a",
        "colab": {
          "base_uri": "https://localhost:8080/"
        }
      },
      "execution_count": 12,
      "outputs": [
        {
          "output_type": "stream",
          "name": "stdout",
          "text": [
            "   PassengerId  Survived  Pclass  \\\n",
            "0            1         0       3   \n",
            "1            2         1       1   \n",
            "2            3         1       3   \n",
            "3            4         1       1   \n",
            "4            5         0       3   \n",
            "5            6         0       3   \n",
            "6            7         0       1   \n",
            "7            8         0       3   \n",
            "8            9         1       3   \n",
            "9           10         1       2   \n",
            "\n",
            "                                                Name     Sex   Age  SibSp  \\\n",
            "0                            Braund, Mr. Owen Harris    male  22.0      1   \n",
            "1  Cumings, Mrs. John Bradley (Florence Briggs Th...  female  38.0      1   \n",
            "2                             Heikkinen, Miss. Laina  female  26.0      0   \n",
            "3       Futrelle, Mrs. Jacques Heath (Lily May Peel)  female  35.0      1   \n",
            "4                           Allen, Mr. William Henry    male  35.0      0   \n",
            "5                                   Moran, Mr. James    male   NaN      0   \n",
            "6                            McCarthy, Mr. Timothy J    male  54.0      0   \n",
            "7                     Palsson, Master. Gosta Leonard    male   2.0      3   \n",
            "8  Johnson, Mrs. Oscar W (Elisabeth Vilhelmina Berg)  female  27.0      0   \n",
            "9                Nasser, Mrs. Nicholas (Adele Achem)  female  14.0      1   \n",
            "\n",
            "   Parch            Ticket     Fare Cabin Embarked  \n",
            "0      0         A/5 21171   7.2500   NaN        S  \n",
            "1      0          PC 17599  71.2833   C85        C  \n",
            "2      0  STON/O2. 3101282   7.9250   NaN        S  \n",
            "3      0            113803  53.1000  C123        S  \n",
            "4      0            373450   8.0500   NaN        S  \n",
            "5      0            330877   8.4583   NaN        Q  \n",
            "6      0             17463  51.8625   E46        S  \n",
            "7      1            349909  21.0750   NaN        S  \n",
            "8      2            347742  11.1333   NaN        S  \n",
            "9      0            237736  30.0708   NaN        C  \n"
          ]
        }
      ]
    },
    {
      "cell_type": "markdown",
      "metadata": {
        "id": "eZioUVZgL72Y"
      },
      "source": [
        "1.2 Charger les données d'apprentissage (Data/test.csv) dans un Dataframe nommé test. Afficher 10 exemples."
      ]
    },
    {
      "cell_type": "code",
      "execution_count": 13,
      "metadata": {
        "_cell_guid": "2ce68358-02ec-556d-ba88-e773a50bc18b",
        "_uuid": "5ec0878acc5c7ab3903410e671c2a2c6cfeafeea",
        "id": "WAEoNc18L72Z",
        "outputId": "d5f0b967-1307-4f06-e720-2e507da5de1c",
        "colab": {
          "base_uri": "https://localhost:8080/"
        }
      },
      "outputs": [
        {
          "output_type": "stream",
          "name": "stdout",
          "text": [
            "   PassengerId  Pclass                                          Name     Sex  \\\n",
            "0          892       3                              Kelly, Mr. James    male   \n",
            "1          893       3              Wilkes, Mrs. James (Ellen Needs)  female   \n",
            "2          894       2                     Myles, Mr. Thomas Francis    male   \n",
            "3          895       3                              Wirz, Mr. Albert    male   \n",
            "4          896       3  Hirvonen, Mrs. Alexander (Helga E Lindqvist)  female   \n",
            "5          897       3                    Svensson, Mr. Johan Cervin    male   \n",
            "6          898       3                          Connolly, Miss. Kate  female   \n",
            "7          899       2                  Caldwell, Mr. Albert Francis    male   \n",
            "8          900       3     Abrahim, Mrs. Joseph (Sophie Halaut Easu)  female   \n",
            "9          901       3                       Davies, Mr. John Samuel    male   \n",
            "\n",
            "    Age  SibSp  Parch     Ticket     Fare Cabin Embarked  \n",
            "0  34.5      0      0     330911   7.8292   NaN        Q  \n",
            "1  47.0      1      0     363272   7.0000   NaN        S  \n",
            "2  62.0      0      0     240276   9.6875   NaN        Q  \n",
            "3  27.0      0      0     315154   8.6625   NaN        S  \n",
            "4  22.0      1      1    3101298  12.2875   NaN        S  \n",
            "5  14.0      0      0       7538   9.2250   NaN        S  \n",
            "6  30.0      0      0     330972   7.6292   NaN        Q  \n",
            "7  26.0      1      1     248738  29.0000   NaN        S  \n",
            "8  18.0      0      0       2657   7.2292   NaN        C  \n",
            "9  21.0      2      0  A/4 48871  24.1500   NaN        S  \n"
          ]
        }
      ],
      "source": [
        "test = pd.read_csv('/content/drive/MyDrive/Data_Science/test.csv')\n",
        "print(test.head(10))"
      ]
    },
    {
      "cell_type": "markdown",
      "metadata": {
        "id": "QCCz1v1vL72a"
      },
      "source": [
        "1.3 Afficher les informations des deux DataFrames train et Test."
      ]
    },
    {
      "cell_type": "code",
      "execution_count": 14,
      "metadata": {
        "_cell_guid": "2ce68358-02ec-556d-ba88-e773a50bc18b",
        "_uuid": "5ec0878acc5c7ab3903410e671c2a2c6cfeafeea",
        "id": "QAKcKppgL72b",
        "outputId": "cdda127e-10b3-4f6a-c465-ebe20a4550d7",
        "colab": {
          "base_uri": "https://localhost:8080/"
        }
      },
      "outputs": [
        {
          "output_type": "stream",
          "name": "stdout",
          "text": [
            "Informations du DataFrame train :\n",
            "<class 'pandas.core.frame.DataFrame'>\n",
            "RangeIndex: 891 entries, 0 to 890\n",
            "Data columns (total 12 columns):\n",
            " #   Column       Non-Null Count  Dtype  \n",
            "---  ------       --------------  -----  \n",
            " 0   PassengerId  891 non-null    int64  \n",
            " 1   Survived     891 non-null    int64  \n",
            " 2   Pclass       891 non-null    int64  \n",
            " 3   Name         891 non-null    object \n",
            " 4   Sex          891 non-null    object \n",
            " 5   Age          714 non-null    float64\n",
            " 6   SibSp        891 non-null    int64  \n",
            " 7   Parch        891 non-null    int64  \n",
            " 8   Ticket       891 non-null    object \n",
            " 9   Fare         891 non-null    float64\n",
            " 10  Cabin        204 non-null    object \n",
            " 11  Embarked     889 non-null    object \n",
            "dtypes: float64(2), int64(5), object(5)\n",
            "memory usage: 83.7+ KB\n",
            "None\n",
            "\n",
            "Premières lignes du DataFrame train :\n",
            "   PassengerId  Survived  Pclass  \\\n",
            "0            1         0       3   \n",
            "1            2         1       1   \n",
            "2            3         1       3   \n",
            "3            4         1       1   \n",
            "4            5         0       3   \n",
            "\n",
            "                                                Name     Sex   Age  SibSp  \\\n",
            "0                            Braund, Mr. Owen Harris    male  22.0      1   \n",
            "1  Cumings, Mrs. John Bradley (Florence Briggs Th...  female  38.0      1   \n",
            "2                             Heikkinen, Miss. Laina  female  26.0      0   \n",
            "3       Futrelle, Mrs. Jacques Heath (Lily May Peel)  female  35.0      1   \n",
            "4                           Allen, Mr. William Henry    male  35.0      0   \n",
            "\n",
            "   Parch            Ticket     Fare Cabin Embarked  \n",
            "0      0         A/5 21171   7.2500   NaN        S  \n",
            "1      0          PC 17599  71.2833   C85        C  \n",
            "2      0  STON/O2. 3101282   7.9250   NaN        S  \n",
            "3      0            113803  53.1000  C123        S  \n",
            "4      0            373450   8.0500   NaN        S  \n",
            "\n",
            "Informations du DataFrame test :\n",
            "<class 'pandas.core.frame.DataFrame'>\n",
            "RangeIndex: 418 entries, 0 to 417\n",
            "Data columns (total 11 columns):\n",
            " #   Column       Non-Null Count  Dtype  \n",
            "---  ------       --------------  -----  \n",
            " 0   PassengerId  418 non-null    int64  \n",
            " 1   Pclass       418 non-null    int64  \n",
            " 2   Name         418 non-null    object \n",
            " 3   Sex          418 non-null    object \n",
            " 4   Age          332 non-null    float64\n",
            " 5   SibSp        418 non-null    int64  \n",
            " 6   Parch        418 non-null    int64  \n",
            " 7   Ticket       418 non-null    object \n",
            " 8   Fare         417 non-null    float64\n",
            " 9   Cabin        91 non-null     object \n",
            " 10  Embarked     418 non-null    object \n",
            "dtypes: float64(2), int64(4), object(5)\n",
            "memory usage: 36.1+ KB\n",
            "None\n",
            "\n",
            "Premières lignes du DataFrame test :\n",
            "   PassengerId  Pclass                                          Name     Sex  \\\n",
            "0          892       3                              Kelly, Mr. James    male   \n",
            "1          893       3              Wilkes, Mrs. James (Ellen Needs)  female   \n",
            "2          894       2                     Myles, Mr. Thomas Francis    male   \n",
            "3          895       3                              Wirz, Mr. Albert    male   \n",
            "4          896       3  Hirvonen, Mrs. Alexander (Helga E Lindqvist)  female   \n",
            "\n",
            "    Age  SibSp  Parch   Ticket     Fare Cabin Embarked  \n",
            "0  34.5      0      0   330911   7.8292   NaN        Q  \n",
            "1  47.0      1      0   363272   7.0000   NaN        S  \n",
            "2  62.0      0      0   240276   9.6875   NaN        Q  \n",
            "3  27.0      0      0   315154   8.6625   NaN        S  \n",
            "4  22.0      1      1  3101298  12.2875   NaN        S  \n"
          ]
        }
      ],
      "source": [
        "# les infos du DataFrame train\n",
        "print(\"Informations du DataFrame train :\")\n",
        "print(train.info())\n",
        "print(\"\\nPremières lignes du DataFrame train :\")\n",
        "print(train.head())\n",
        "\n",
        "# les infos du DataFrame test\n",
        "print(\"\\nInformations du DataFrame test :\")\n",
        "print(test.info())\n",
        "print(\"\\nPremières lignes du DataFrame test :\")\n",
        "print(test.head())"
      ]
    },
    {
      "cell_type": "markdown",
      "metadata": {
        "id": "NFbDibBPL72b"
      },
      "source": [
        "1.4 Calculer le taux global de survie"
      ]
    },
    {
      "cell_type": "code",
      "execution_count": 15,
      "metadata": {
        "id": "Y4uxNF26L72b",
        "outputId": "027529a7-c532-4b6c-cc39-81f431c94b9c",
        "colab": {
          "base_uri": "https://localhost:8080/"
        }
      },
      "outputs": [
        {
          "output_type": "stream",
          "name": "stdout",
          "text": [
            "Taux global de survie : 38.38%\n"
          ]
        }
      ],
      "source": [
        "# Survival DataFrame train\n",
        "survival_rate = train['Survived'].mean()\n",
        "print(f\"Taux global de survie : {survival_rate:.2%}\")"
      ]
    },
    {
      "cell_type": "markdown",
      "metadata": {
        "id": "aDmOaLR7L72c"
      },
      "source": [
        "\n"
      ]
    },
    {
      "cell_type": "markdown",
      "metadata": {
        "id": "-G1XT7nwL72c"
      },
      "source": [
        "#### Question 1 : Quel Travail voyez-vous pour que les données soient prêtes à faire tourner dans un modèle ?\n",
        "Pour préparer les données à être utilisées dans un modèle, des étapes de nettoyage et de transformation sont nécessaires. Par exemple, une étape de gestion de valeur manquante, la création de nouveaux targets, de l'encodage.\n",
        "\n",
        "\n",
        "\n",
        "\n",
        "#### Question 2 : Quelle différence y-a-t'il entre les données train et les données test ?\n",
        "\n",
        "Le DataFrame train contient un champ supplémentaire (Survived), qui indique si un passager a survécu. \"1\" si oui, \"0\" si non.\n",
        "\n",
        "\n",
        "\n",
        "\n",
        "#### Question 3 : Quel est le rôle de ces deux sets de données ?\n",
        "Le dataframe Train a pour role de jeu d'entraînement pour former le modèle. Ce dataframe nous apprend les relations entre les features et la variable cible\n",
        "\n",
        "Le dataframe Test a pour role d'évaluer le modèle sur des données qu'il n'a jamais vues.\n",
        "\n"
      ]
    },
    {
      "cell_type": "markdown",
      "metadata": {
        "_cell_guid": "f9595646-65c9-6fc4-395f-0befc4d122ce",
        "_uuid": "66273d64a2548d7a88464ab2a73dbdedfbdc488b",
        "id": "kYNxVsJVL72d"
      },
      "source": [
        "## 2. Analyse des features"
      ]
    },
    {
      "cell_type": "markdown",
      "metadata": {
        "_cell_guid": "9b4c278b-aaca-e92c-ba77-b9b48379d1f1",
        "_uuid": "c2b62e14d493c270ec8df9f3af1938c479361ef3",
        "id": "JCvZB8YiL72d"
      },
      "source": [
        "2.1 Analyser l'effet de la variable Classe sur le taux de survie, en affichant le % de survie par classe"
      ]
    },
    {
      "cell_type": "code",
      "execution_count": 16,
      "metadata": {
        "id": "DZpEaKx6L72d",
        "colab": {
          "base_uri": "https://localhost:8080/"
        },
        "outputId": "b3c22cc6-abeb-424f-db24-217b7be1507f"
      },
      "outputs": [
        {
          "output_type": "stream",
          "name": "stdout",
          "text": [
            "Taux de survie par classe :\n",
            "Pclass\n",
            "1    62.962963\n",
            "2    47.282609\n",
            "3    24.236253\n",
            "Name: Survived, dtype: float64\n"
          ]
        }
      ],
      "source": [
        "# Analyse de la variable Classe (Pclass) sur le taux de survie\n",
        "class_survival = train.groupby('Pclass')['Survived'].mean() * 100\n",
        "print(\"Taux de survie par classe :\")\n",
        "print(class_survival)"
      ]
    },
    {
      "cell_type": "markdown",
      "metadata": {
        "_cell_guid": "4680d950-cf7d-a6ae-e813-535e2247d88e",
        "_uuid": "f02533e7b85bba0cca7fcf2cc598c8da92d7646d",
        "id": "A7_4U9dTL72d"
      },
      "source": [
        "2.2 Analyser l'effet de la variable Genre (Sex) sur le taux de survie, en affichant le % de survie par classe"
      ]
    },
    {
      "cell_type": "code",
      "execution_count": 17,
      "metadata": {
        "_cell_guid": "4680d950-cf7d-a6ae-e813-535e2247d88e",
        "_uuid": "f02533e7b85bba0cca7fcf2cc598c8da92d7646d",
        "id": "fgZrp4OTL72d",
        "colab": {
          "base_uri": "https://localhost:8080/"
        },
        "outputId": "81a49500-d2e4-4476-ca88-68bfc1228fe8"
      },
      "outputs": [
        {
          "output_type": "stream",
          "name": "stdout",
          "text": [
            "Taux de survie par genre :\n",
            "Sex\n",
            "female    74.203822\n",
            "male      18.890815\n",
            "Name: Survived, dtype: float64\n"
          ]
        }
      ],
      "source": [
        "# Analyse la variable Genre (Sex) sur le taux de survie\n",
        "gender_survival = train.groupby('Sex')['Survived'].mean() * 100\n",
        "print(\"Taux de survie par genre :\")\n",
        "print(gender_survival)"
      ]
    },
    {
      "cell_type": "markdown",
      "metadata": {
        "_cell_guid": "7c58b7ee-d6a1-0cc9-2346-81c47846a54a",
        "_uuid": "88185e9222c26d5d23caaeb209c18710a231b5f9",
        "id": "mevwuykRL72e"
      },
      "source": [
        "2.3 Calculer une nouvelle colonne FamilySize contenant la taille de la famille, pour les DataFrame train et Test. Afficher pour 10 exemples l'Id du passager, le nom, l'age, le sexe et la taille de la famille."
      ]
    },
    {
      "cell_type": "code",
      "execution_count": 18,
      "metadata": {
        "_cell_guid": "1a537f10-7cec-d0b7-8a34-fa9975655190",
        "_uuid": "ccc4a4cf7624dd4be450fd62ca3ad478d4e75696",
        "id": "iR-Op2B1L72e",
        "colab": {
          "base_uri": "https://localhost:8080/"
        },
        "outputId": "6dcfb4b5-6c2d-41a4-bb92-7ff424c6db9e"
      },
      "outputs": [
        {
          "output_type": "stream",
          "name": "stdout",
          "text": [
            "Aperçu de la colonne FamilySize dans le DataFrame train :\n",
            "   PassengerId                                               Name   Age  \\\n",
            "0            1                            Braund, Mr. Owen Harris  22.0   \n",
            "1            2  Cumings, Mrs. John Bradley (Florence Briggs Th...  38.0   \n",
            "2            3                             Heikkinen, Miss. Laina  26.0   \n",
            "3            4       Futrelle, Mrs. Jacques Heath (Lily May Peel)  35.0   \n",
            "4            5                           Allen, Mr. William Henry  35.0   \n",
            "5            6                                   Moran, Mr. James   NaN   \n",
            "6            7                            McCarthy, Mr. Timothy J  54.0   \n",
            "7            8                     Palsson, Master. Gosta Leonard   2.0   \n",
            "8            9  Johnson, Mrs. Oscar W (Elisabeth Vilhelmina Berg)  27.0   \n",
            "9           10                Nasser, Mrs. Nicholas (Adele Achem)  14.0   \n",
            "\n",
            "      Sex  FamilySize  \n",
            "0    male           2  \n",
            "1  female           2  \n",
            "2  female           1  \n",
            "3  female           2  \n",
            "4    male           1  \n",
            "5    male           1  \n",
            "6    male           1  \n",
            "7    male           5  \n",
            "8  female           3  \n",
            "9  female           2  \n",
            "\n",
            "Aperçu de la colonne FamilySize dans le DataFrame test :\n",
            "   PassengerId                                          Name   Age     Sex  \\\n",
            "0          892                              Kelly, Mr. James  34.5    male   \n",
            "1          893              Wilkes, Mrs. James (Ellen Needs)  47.0  female   \n",
            "2          894                     Myles, Mr. Thomas Francis  62.0    male   \n",
            "3          895                              Wirz, Mr. Albert  27.0    male   \n",
            "4          896  Hirvonen, Mrs. Alexander (Helga E Lindqvist)  22.0  female   \n",
            "5          897                    Svensson, Mr. Johan Cervin  14.0    male   \n",
            "6          898                          Connolly, Miss. Kate  30.0  female   \n",
            "7          899                  Caldwell, Mr. Albert Francis  26.0    male   \n",
            "8          900     Abrahim, Mrs. Joseph (Sophie Halaut Easu)  18.0  female   \n",
            "9          901                       Davies, Mr. John Samuel  21.0    male   \n",
            "\n",
            "   FamilySize  \n",
            "0           1  \n",
            "1           2  \n",
            "2           1  \n",
            "3           1  \n",
            "4           3  \n",
            "5           1  \n",
            "6           1  \n",
            "7           3  \n",
            "8           1  \n",
            "9           3  \n"
          ]
        }
      ],
      "source": [
        "# Ajout de la colonne FamilySize pour \"train\" et \"test\"\n",
        "train['FamilySize'] = train['SibSp'] + train['Parch'] + 1\n",
        "test['FamilySize'] = test['SibSp'] + test['Parch'] + 1\n",
        "\n",
        "# DataFrame train\n",
        "print(\"Aperçu de la colonne FamilySize dans le DataFrame train :\")\n",
        "print(train[['PassengerId', 'Name', 'Age', 'Sex', 'FamilySize']].head(10))\n",
        "\n",
        "# DataFrame test\n",
        "print(\"\\nAperçu de la colonne FamilySize dans le DataFrame test :\")\n",
        "print(test[['PassengerId', 'Name', 'Age', 'Sex', 'FamilySize']].head(10))\n"
      ]
    },
    {
      "cell_type": "markdown",
      "metadata": {
        "id": "5MmDOwdML72e"
      },
      "source": [
        "2.4 Visualisez le nombre de personnes et le taux de survie par taille de famille."
      ]
    },
    {
      "cell_type": "code",
      "execution_count": 19,
      "metadata": {
        "_cell_guid": "1a537f10-7cec-d0b7-8a34-fa9975655190",
        "_uuid": "ccc4a4cf7624dd4be450fd62ca3ad478d4e75696",
        "id": "w24fjZ5kL72e",
        "colab": {
          "base_uri": "https://localhost:8080/"
        },
        "outputId": "ebced071-1ad4-4730-b2a3-c2108a8960f6"
      },
      "outputs": [
        {
          "output_type": "stream",
          "name": "stdout",
          "text": [
            "\n",
            "Nombre de personnes et taux de survie par taille de famille :\n",
            "            count       mean\n",
            "FamilySize                  \n",
            "1             537  30.353818\n",
            "2             161  55.279503\n",
            "3             102  57.843137\n",
            "4              29  72.413793\n",
            "5              15  20.000000\n",
            "6              22  13.636364\n",
            "7              12  33.333333\n",
            "8               6   0.000000\n",
            "11              7   0.000000\n"
          ]
        }
      ],
      "source": [
        "# Visualisation du nombre de personnes et le taux de survie par taille de famille\n",
        "family_survival = train.groupby('FamilySize')['Survived'].agg(['count', 'mean'])\n",
        "family_survival['mean'] = family_survival['mean'] * 100\n",
        "\n",
        "print(\"\\nNombre de personnes et taux de survie par taille de famille :\")\n",
        "print(family_survival)"
      ]
    },
    {
      "cell_type": "markdown",
      "metadata": {
        "_cell_guid": "7c58b7ee-d6a1-0cc9-2346-81c47846a54a",
        "_uuid": "88185e9222c26d5d23caaeb209c18710a231b5f9",
        "id": "OQFHVEXDL72e"
      },
      "source": [
        "2.5 Calculer une nouvelle colonne IsAlone indiquant si le passager est seul ou pas, pour les DataFrame train et Test. Afficher pour 10 exemples l'Id du passager, le nom, l'age, le sexe et le status IsAlone."
      ]
    },
    {
      "cell_type": "code",
      "execution_count": 20,
      "metadata": {
        "_cell_guid": "8c35e945-c928-e3bc-bd9c-d6ddb287e4c9",
        "_uuid": "87f79dc0711c29f39c0db1a4f7a2e8a84c0c7edb",
        "id": "TYqK-MKPL72f",
        "colab": {
          "base_uri": "https://localhost:8080/"
        },
        "outputId": "e1f5ae04-827e-4007-cfba-44c527af0f7e"
      },
      "outputs": [
        {
          "output_type": "stream",
          "name": "stdout",
          "text": [
            "\n",
            "Exemples de la colonne IsAlone (train) :\n",
            "   PassengerId                                               Name   Age  \\\n",
            "0            1                            Braund, Mr. Owen Harris  22.0   \n",
            "1            2  Cumings, Mrs. John Bradley (Florence Briggs Th...  38.0   \n",
            "2            3                             Heikkinen, Miss. Laina  26.0   \n",
            "3            4       Futrelle, Mrs. Jacques Heath (Lily May Peel)  35.0   \n",
            "4            5                           Allen, Mr. William Henry  35.0   \n",
            "5            6                                   Moran, Mr. James   NaN   \n",
            "6            7                            McCarthy, Mr. Timothy J  54.0   \n",
            "7            8                     Palsson, Master. Gosta Leonard   2.0   \n",
            "8            9  Johnson, Mrs. Oscar W (Elisabeth Vilhelmina Berg)  27.0   \n",
            "9           10                Nasser, Mrs. Nicholas (Adele Achem)  14.0   \n",
            "\n",
            "      Sex  IsAlone  \n",
            "0    male        0  \n",
            "1  female        0  \n",
            "2  female        1  \n",
            "3  female        0  \n",
            "4    male        1  \n",
            "5    male        1  \n",
            "6    male        1  \n",
            "7    male        0  \n",
            "8  female        0  \n",
            "9  female        0  \n",
            "\n",
            "Exemples de la colonne IsAlone (test) :\n",
            "   PassengerId                                          Name   Age     Sex  \\\n",
            "0          892                              Kelly, Mr. James  34.5    male   \n",
            "1          893              Wilkes, Mrs. James (Ellen Needs)  47.0  female   \n",
            "2          894                     Myles, Mr. Thomas Francis  62.0    male   \n",
            "3          895                              Wirz, Mr. Albert  27.0    male   \n",
            "4          896  Hirvonen, Mrs. Alexander (Helga E Lindqvist)  22.0  female   \n",
            "5          897                    Svensson, Mr. Johan Cervin  14.0    male   \n",
            "6          898                          Connolly, Miss. Kate  30.0  female   \n",
            "7          899                  Caldwell, Mr. Albert Francis  26.0    male   \n",
            "8          900     Abrahim, Mrs. Joseph (Sophie Halaut Easu)  18.0  female   \n",
            "9          901                       Davies, Mr. John Samuel  21.0    male   \n",
            "\n",
            "   IsAlone  \n",
            "0        1  \n",
            "1        0  \n",
            "2        1  \n",
            "3        1  \n",
            "4        0  \n",
            "5        1  \n",
            "6        1  \n",
            "7        0  \n",
            "8        1  \n",
            "9        0  \n"
          ]
        }
      ],
      "source": [
        "train['IsAlone'] = (train['FamilySize'] == 1).astype(int)\n",
        "test['IsAlone'] = (test['FamilySize'] == 1).astype(int)\n",
        "\n",
        "print(\"\\nExemples de la colonne IsAlone (train) :\")\n",
        "print(train[['PassengerId', 'Name', 'Age', 'Sex', 'IsAlone']].head(10))\n",
        "\n",
        "print(\"\\nExemples de la colonne IsAlone (test) :\")\n",
        "print(test[['PassengerId', 'Name', 'Age', 'Sex', 'IsAlone']].head(10))"
      ]
    },
    {
      "cell_type": "markdown",
      "metadata": {
        "id": "tlRfiDHjL72f"
      },
      "source": [
        "2.6 Visualisez le nombre de personnes et le taux de survie par statut seul ou pas."
      ]
    },
    {
      "cell_type": "code",
      "execution_count": 21,
      "metadata": {
        "_cell_guid": "8c35e945-c928-e3bc-bd9c-d6ddb287e4c9",
        "_uuid": "87f79dc0711c29f39c0db1a4f7a2e8a84c0c7edb",
        "id": "GlCbYTGQL72f",
        "colab": {
          "base_uri": "https://localhost:8080/"
        },
        "outputId": "5bffbe5b-7d2f-42f7-93e3-8165883cbe5b"
      },
      "outputs": [
        {
          "output_type": "stream",
          "name": "stdout",
          "text": [
            "Taux de survie par statut seul ou pas\n",
            "IsAlone\n",
            "0    0.505650\n",
            "1    0.303538\n",
            "Name: Survived, dtype: float64\n"
          ]
        }
      ],
      "source": [
        "# Visualisation par statut seul ou pas\n",
        "isalone_survival = train.groupby('IsAlone')['Survived'].mean()\n",
        "\n",
        "print(\"Taux de survie par statut seul ou pas\")\n",
        "print(isalone_survival)\n"
      ]
    },
    {
      "cell_type": "markdown",
      "metadata": {
        "id": "3FqzP1ZhL72f"
      },
      "source": [
        "2.7 Calculer l'information mutuelle sur les données train.\n",
        "\n",
        "Attention : Il y a des données continues et des données discrètes\n",
        "\n",
        "Ignorer les colonnes Name, Ticket et Cabin"
      ]
    },
    {
      "cell_type": "code",
      "execution_count": 22,
      "metadata": {
        "id": "sbvrqSvhL72f",
        "colab": {
          "base_uri": "https://localhost:8080/"
        },
        "outputId": "8ab6cbaf-d74b-4293-895e-95300b378024"
      },
      "outputs": [
        {
          "output_type": "stream",
          "name": "stdout",
          "text": [
            "Scores d'information mutuelle :\n",
            "Fare          0.139559\n",
            "Sex           0.132878\n",
            "Embarked      0.068197\n",
            "Pclass        0.052688\n",
            "Parch         0.028651\n",
            "Age           0.024436\n",
            "IsAlone       0.019536\n",
            "FamilySize    0.018001\n",
            "SibSp         0.000000\n",
            "dtype: float64\n"
          ]
        }
      ],
      "source": [
        "from sklearn.feature_selection import mutual_info_regression\n",
        "\n",
        "# Préparer les données pour le calcul\n",
        "features = ['Pclass', 'Sex', 'Age', 'SibSp', 'Parch', 'Fare', 'Embarked', 'FamilySize', 'IsAlone']\n",
        "X = train[features].copy()\n",
        "\n",
        "# Encodage des variables catégoriques et gestion des NaN\n",
        "X['Sex'] = X['Sex'].map({'male': 0, 'female': 1})\n",
        "X['Embarked'] = X['Embarked'].map({'C': 0, 'Q': 1, 'S': 2})\n",
        "X.fillna(0, inplace=True)\n",
        "\n",
        "y = train['Survived']\n",
        "\n",
        "# Calcul de l'information mutuelle\n",
        "mi_scores = mutual_info_regression(X, y)\n",
        "mi_scores = pd.Series(mi_scores, index=features).sort_values(ascending=False)\n",
        "\n",
        "# Afficher les scores\n",
        "print(\"Scores d'information mutuelle :\")\n",
        "print(mi_scores)"
      ]
    },
    {
      "cell_type": "markdown",
      "metadata": {
        "id": "UrQeVfRaL72f"
      },
      "source": [
        "2.8 Afficher dans un graphique les scores d'information mutuelle par feature"
      ]
    },
    {
      "cell_type": "code",
      "execution_count": 23,
      "metadata": {
        "id": "2AQFxwC8L72f",
        "colab": {
          "base_uri": "https://localhost:8080/",
          "height": 604
        },
        "outputId": "01b7283d-14e8-480a-c5e5-a8586ee7967b"
      },
      "outputs": [
        {
          "output_type": "display_data",
          "data": {
            "text/plain": [
              "<Figure size 1000x600 with 1 Axes>"
            ],
            "image/png": "[encoded data removed]"
          },
          "metadata": {}
        }
      ],
      "source": [
        "import matplotlib.pyplot as plt\n",
        "\n",
        "plt.figure(figsize=(10, 6))\n",
        "mi_scores.plot(kind='bar')\n",
        "plt.title(\"Scores d'information mutuelle par feature\")\n",
        "plt.ylabel(\"Score\")\n",
        "plt.show()"
      ]
    },
    {
      "cell_type": "markdown",
      "metadata": {
        "id": "0Kw7iRGnL72g"
      },
      "source": [
        "### Question 1 : La variable Classe est-elle utile pour prévoir la survie ? Pourquoi ?\n",
        "\n",
        "Oui, la variable Pclass (Classe) est utile pour prévoir la survie, car les analyses montrent le lien entre la classe et le taux de survie. Exemple : 1ère classe : taux de survie élevé,\n",
        "2ème classe : taux de survie intermédiaire,\n",
        "3ème classe : taux de survie faible\n",
        "\n",
        "\n",
        "### Question 2 : Même question pour la variable Sex\n",
        "Oui, la variable Sex (Genre) est très utile pour prévoir la survie. Lors de l'analyse, on constate que les femmes ont un taux de survie significativement plus élevé que les hommes :\n",
        "\n",
        "Femmes : Taux de survie élevé (~75%).\n",
        "Hommes : Taux de survie faible (~20-25%).\n",
        "\n",
        "### Question 3 : Comment traiter le variables liées à la famille du passager ?\n",
        "\n",
        "FamilySize est la variable la plus pertinente (score ~0.043) parmi celles liées à la famille. Elle capture efficacement les informations de SibSp et Parch. Il est donc préférable d'utiliser FamilySize directement, ou d'explorer d'autres transformations combinant ces variables pour maximiser leur impact.\n",
        "\n",
        "\n",
        "\n"
      ]
    },
    {
      "cell_type": "markdown",
      "source": [],
      "metadata": {
        "id": "xrQt1ZT-c2V_"
      }
    },
    {
      "cell_type": "markdown",
      "metadata": {
        "id": "W30IWmKPL72g"
      },
      "source": [
        "## 3. Traitement des données manquantes (à faire sur les données Train et Test)"
      ]
    },
    {
      "cell_type": "markdown",
      "metadata": {
        "_cell_guid": "8aa419c0-6614-7efc-7797-97f4a5158b19",
        "_uuid": "dd18a31086cfeca6330b05f83caf3cc02f687253",
        "id": "n_mBVkykL72g"
      },
      "source": [
        "3.1 La variable \"Embarked\" possède des valeurs nulles, compléter par la valeur majoritaire (S)."
      ]
    },
    {
      "cell_type": "code",
      "execution_count": 24,
      "metadata": {
        "_cell_guid": "0e70e9af-d7cc-8c40-b7d4-2643889c376d",
        "_uuid": "b4f7ccb3df98da6915bda1c7c225b905fc37845b",
        "id": "-Gxzz7M9L72g",
        "colab": {
          "base_uri": "https://localhost:8080/"
        },
        "outputId": "79d7e031-122d-43b8-e458-a38b5253acdf"
      },
      "outputs": [
        {
          "output_type": "stream",
          "name": "stdout",
          "text": [
            "Valeurs manquantes dans Embarked corrigées.\n"
          ]
        },
        {
          "output_type": "stream",
          "name": "stderr",
          "text": [
            "<ipython-input-24-a82b1e57a6e6>:3: FutureWarning: A value is trying to be set on a copy of a DataFrame or Series through chained assignment using an inplace method.\n",
            "The behavior will change in pandas 3.0. This inplace method will never work because the intermediate object on which we are setting values always behaves as a copy.\n",
            "\n",
            "For example, when doing 'df[col].method(value, inplace=True)', try using 'df.method({col: value}, inplace=True)' or df[col] = df[col].method(value) instead, to perform the operation inplace on the original object.\n",
            "\n",
            "\n",
            "  train['Embarked'].fillna(train['Embarked'].mode()[0], inplace=True)\n",
            "<ipython-input-24-a82b1e57a6e6>:4: FutureWarning: A value is trying to be set on a copy of a DataFrame or Series through chained assignment using an inplace method.\n",
            "The behavior will change in pandas 3.0. This inplace method will never work because the intermediate object on which we are setting values always behaves as a copy.\n",
            "\n",
            "For example, when doing 'df[col].method(value, inplace=True)', try using 'df.method({col: value}, inplace=True)' or df[col] = df[col].method(value) instead, to perform the operation inplace on the original object.\n",
            "\n",
            "\n",
            "  test['Embarked'].fillna(test['Embarked'].mode()[0], inplace=True)\n"
          ]
        }
      ],
      "source": [
        "# Remplissage des valeurs nulles de la variable Embarked\n",
        "\n",
        "train['Embarked'].fillna(train['Embarked'].mode()[0], inplace=True)\n",
        "test['Embarked'].fillna(test['Embarked'].mode()[0], inplace=True)\n",
        "\n",
        "print(\"Valeurs manquantes dans Embarked corrigées.\")\n"
      ]
    },
    {
      "cell_type": "markdown",
      "metadata": {
        "id": "tDonBDswL72g"
      },
      "source": [
        "3.2 Afficher l'influence du port d'embarquement sur la Survie"
      ]
    },
    {
      "cell_type": "code",
      "execution_count": 25,
      "metadata": {
        "_cell_guid": "0e70e9af-d7cc-8c40-b7d4-2643889c376d",
        "_uuid": "b4f7ccb3df98da6915bda1c7c225b905fc37845b",
        "id": "lPJuCzU0L72g",
        "colab": {
          "base_uri": "https://localhost:8080/"
        },
        "outputId": "e4ab2dd5-29a6-47ae-dfed-263692c17a87"
      },
      "outputs": [
        {
          "output_type": "stream",
          "name": "stdout",
          "text": [
            "Taux de survie par port d'embarquement :\n",
            "Embarked\n",
            "C    55.357143\n",
            "Q    38.961039\n",
            "S    33.900929\n",
            "Name: Survived, dtype: float64\n"
          ]
        }
      ],
      "source": [
        "# Influence du port d'embarquement sur la survie\n",
        "embarked_survival = train.groupby('Embarked')['Survived'].mean() * 100\n",
        "print(\"Taux de survie par port d'embarquement :\")\n",
        "print(embarked_survival)"
      ]
    },
    {
      "cell_type": "markdown",
      "metadata": {
        "_cell_guid": "e08c9ee8-d6d1-99b7-38bd-f0042c18a5d9",
        "_uuid": "bbeb369d4bb1b086fcc3257218fdeeb6bcdb53c0",
        "id": "HF5oR6jIL72h"
      },
      "source": [
        "3.3 La variable \"Fare\" (prix du ticket) possède des valeurs manquantes. Remplacer ces valeurs par la valeur médiane."
      ]
    },
    {
      "cell_type": "code",
      "execution_count": 26,
      "metadata": {
        "_cell_guid": "a21335bd-4e8d-66e8-e6a5-5d2173b72d3b",
        "_uuid": "f04975f236aad78d3f93812512088404b5c9280e",
        "id": "8K4EfSMuL72h",
        "colab": {
          "base_uri": "https://localhost:8080/"
        },
        "outputId": "db453f03-17aa-4a37-f125-57607d2a365a"
      },
      "outputs": [
        {
          "output_type": "stream",
          "name": "stdout",
          "text": [
            "Valeurs manquantes dans Fare corrigées.\n"
          ]
        },
        {
          "output_type": "stream",
          "name": "stderr",
          "text": [
            "<ipython-input-26-378960007815>:2: FutureWarning: A value is trying to be set on a copy of a DataFrame or Series through chained assignment using an inplace method.\n",
            "The behavior will change in pandas 3.0. This inplace method will never work because the intermediate object on which we are setting values always behaves as a copy.\n",
            "\n",
            "For example, when doing 'df[col].method(value, inplace=True)', try using 'df.method({col: value}, inplace=True)' or df[col] = df[col].method(value) instead, to perform the operation inplace on the original object.\n",
            "\n",
            "\n",
            "  train['Fare'].fillna(train['Fare'].median(), inplace=True)\n",
            "<ipython-input-26-378960007815>:3: FutureWarning: A value is trying to be set on a copy of a DataFrame or Series through chained assignment using an inplace method.\n",
            "The behavior will change in pandas 3.0. This inplace method will never work because the intermediate object on which we are setting values always behaves as a copy.\n",
            "\n",
            "For example, when doing 'df[col].method(value, inplace=True)', try using 'df.method({col: value}, inplace=True)' or df[col] = df[col].method(value) instead, to perform the operation inplace on the original object.\n",
            "\n",
            "\n",
            "  test['Fare'].fillna(test['Fare'].median(), inplace=True)\n"
          ]
        }
      ],
      "source": [
        "# Remplacer les valeurs manquantes de Fare par la médiane\n",
        "train['Fare'].fillna(train['Fare'].median(), inplace=True)\n",
        "test['Fare'].fillna(test['Fare'].median(), inplace=True)\n",
        "\n",
        "print(\"Valeurs manquantes dans Fare corrigées.\")"
      ]
    },
    {
      "cell_type": "markdown",
      "metadata": {
        "id": "qubEZUTiL72m"
      },
      "source": [
        "3.4 Créer une variable CategoricalFare Découpant la valeur de ticket en 4 catégories de tailles à peu près égales."
      ]
    },
    {
      "cell_type": "code",
      "execution_count": 27,
      "metadata": {
        "_cell_guid": "a21335bd-4e8d-66e8-e6a5-5d2173b72d3b",
        "_uuid": "f04975f236aad78d3f93812512088404b5c9280e",
        "id": "KFbX8xrrL72m",
        "colab": {
          "base_uri": "https://localhost:8080/"
        },
        "outputId": "982c0765-2731-4692-b503-d1064dcfca9a"
      },
      "outputs": [
        {
          "output_type": "stream",
          "name": "stdout",
          "text": [
            "Aperçu des nouvelles catégories de Fare dans le DataFrame train :\n",
            "      Fare CategoricalFare\n",
            "0   7.2500               1\n",
            "1  71.2833               4\n",
            "2   7.9250               2\n",
            "3  53.1000               4\n",
            "4   8.0500               2\n",
            "5   8.4583               2\n",
            "6  51.8625               4\n",
            "7  21.0750               3\n",
            "8  11.1333               2\n",
            "9  30.0708               3\n"
          ]
        }
      ],
      "source": [
        "# Découpage de Fare en 4 catégories\n",
        "train['CategoricalFare'] = pd.qcut(train['Fare'], 4, labels=[1, 2, 3, 4])\n",
        "test['CategoricalFare'] = pd.qcut(test['Fare'], 4, labels=[1, 2, 3, 4])\n",
        "\n",
        "print(\"Aperçu des nouvelles catégories de Fare dans le DataFrame train :\")\n",
        "print(train[['Fare', 'CategoricalFare']].head(10))\n"
      ]
    },
    {
      "cell_type": "markdown",
      "metadata": {
        "id": "0xlwhK3UL72m"
      },
      "source": [
        "3.5 Analyser l'effet de ces catégories de prix de ticket sur la survie."
      ]
    },
    {
      "cell_type": "code",
      "execution_count": 28,
      "metadata": {
        "_cell_guid": "a21335bd-4e8d-66e8-e6a5-5d2173b72d3b",
        "_uuid": "f04975f236aad78d3f93812512088404b5c9280e",
        "id": "pARDxvD5L72m",
        "colab": {
          "base_uri": "https://localhost:8080/"
        },
        "outputId": "e5cb9dca-0e5f-4e9a-f63d-975e04a1f4b4"
      },
      "outputs": [
        {
          "output_type": "stream",
          "name": "stdout",
          "text": [
            "Taux de survie par catégorie de prix de ticket :\n",
            "CategoricalFare\n",
            "1    19.730942\n",
            "2    30.357143\n",
            "3    45.495495\n",
            "4    58.108108\n",
            "Name: Survived, dtype: float64\n"
          ]
        },
        {
          "output_type": "stream",
          "name": "stderr",
          "text": [
            "<ipython-input-28-65698f868476>:2: FutureWarning: The default of observed=False is deprecated and will be changed to True in a future version of pandas. Pass observed=False to retain current behavior or observed=True to adopt the future default and silence this warning.\n",
            "  print(train.groupby('CategoricalFare')['Survived'].mean() * 100)\n"
          ]
        }
      ],
      "source": [
        "print(\"Taux de survie par catégorie de prix de ticket :\")\n",
        "print(train.groupby('CategoricalFare')['Survived'].mean() * 100)"
      ]
    },
    {
      "cell_type": "markdown",
      "metadata": {
        "id": "D1ednQqUL72m"
      },
      "source": [
        "3.6 Combien de valeurs d'Age manquent ? Complète par des valeurs entières aléatoires entre (moyenne - écart type) et (moyenne + écart type)."
      ]
    },
    {
      "cell_type": "code",
      "execution_count": 29,
      "metadata": {
        "_cell_guid": "b90c2870-ce5d-ae0e-a33d-59e35445500e",
        "_uuid": "2af2b56d51752be08b84dbb2684466976758faa7",
        "id": "7mztiVqzL72m",
        "colab": {
          "base_uri": "https://localhost:8080/"
        },
        "outputId": "4a974ba1-4024-45b7-e2cf-716304558c51"
      },
      "outputs": [
        {
          "output_type": "stream",
          "name": "stdout",
          "text": [
            "Nombre de valeurs manquantes dans train : 177\n",
            "Nombre de valeurs manquantes dans test : 86\n",
            "Valeurs manquantes complétées dans Age.\n"
          ]
        }
      ],
      "source": [
        "# Nombre de valeurs manquantes dans Age\n",
        "missing_age_train = train['Age'].isnull().sum()\n",
        "missing_age_test = test['Age'].isnull().sum()\n",
        "print(f\"Nombre de valeurs manquantes dans train : {missing_age_train}\")\n",
        "print(f\"Nombre de valeurs manquantes dans test : {missing_age_test}\")\n",
        "\n",
        "# Compléter les valeurs manquantes\n",
        "age_mean = train['Age'].mean()\n",
        "age_std = train['Age'].std()\n",
        "\n",
        "# DataFrame train\n",
        "age_random_train = np.random.randint(age_mean - age_std, age_mean + age_std, size=missing_age_train)\n",
        "train.loc[train['Age'].isnull(), 'Age'] = age_random_train\n",
        "\n",
        "# DataFrame test\n",
        "age_random_test = np.random.randint(age_mean - age_std, age_mean + age_std, size=missing_age_test)\n",
        "test.loc[test['Age'].isnull(), 'Age'] = age_random_test\n",
        "\n",
        "print(\"Valeurs manquantes complétées dans Age.\")\n"
      ]
    },
    {
      "cell_type": "markdown",
      "metadata": {
        "id": "am5x2uRvL72m"
      },
      "source": [
        "3.7 Créer une variable CategoricalAge Découpant la valeur d'age en 5 tranches d'age de même taille."
      ]
    },
    {
      "cell_type": "code",
      "execution_count": 30,
      "metadata": {
        "_cell_guid": "b90c2870-ce5d-ae0e-a33d-59e35445500e",
        "_uuid": "2af2b56d51752be08b84dbb2684466976758faa7",
        "id": "rUOMfct8L72n",
        "colab": {
          "base_uri": "https://localhost:8080/"
        },
        "outputId": "5e2a65b2-c593-4017-bb82-aa123d98acca"
      },
      "outputs": [
        {
          "output_type": "stream",
          "name": "stdout",
          "text": [
            "Aperçu des nouvelles catégories d'Age dans le DataFrame train :\n",
            "    Age CategoricalAge\n",
            "0  22.0              2\n",
            "1  38.0              3\n",
            "2  26.0              2\n",
            "3  35.0              3\n",
            "4  35.0              3\n",
            "5  15.0              1\n",
            "6  54.0              4\n",
            "7   2.0              1\n",
            "8  27.0              2\n",
            "9  14.0              1\n"
          ]
        }
      ],
      "source": [
        "# Découpage d'Age en 5 tranches pour train et test\n",
        "train['CategoricalAge'] = pd.cut(train['Age'], 5, labels=[1, 2, 3, 4, 5])\n",
        "test['CategoricalAge'] = pd.cut(test['Age'], 5, labels=[1, 2, 3, 4, 5])\n",
        "\n",
        "print(\"Aperçu des nouvelles catégories d'Age dans le DataFrame train :\")\n",
        "print(train[['Age', 'CategoricalAge']].head(10))"
      ]
    },
    {
      "cell_type": "markdown",
      "metadata": {
        "id": "NhJowH2mL72n"
      },
      "source": [
        "3.8 Analyser l'effet de ces catégories de prix de ticket sur la survie."
      ]
    },
    {
      "cell_type": "code",
      "execution_count": 31,
      "metadata": {
        "id": "BN0rjvDfL72n",
        "colab": {
          "base_uri": "https://localhost:8080/"
        },
        "outputId": "b6853b36-3ab7-44ac-f399-f3a61dd62c81"
      },
      "outputs": [
        {
          "output_type": "stream",
          "name": "stdout",
          "text": [
            "Taux de survie par catégorie d'âge :\n",
            "CategoricalAge\n",
            "1    51.818182\n",
            "2    35.189310\n",
            "3    38.095238\n",
            "4    43.478261\n",
            "5     9.090909\n",
            "Name: Survived, dtype: float64\n"
          ]
        },
        {
          "output_type": "stream",
          "name": "stderr",
          "text": [
            "<ipython-input-31-7b3c02776739>:4: FutureWarning: The default of observed=False is deprecated and will be changed to True in a future version of pandas. Pass observed=False to retain current behavior or observed=True to adopt the future default and silence this warning.\n",
            "  print(train.groupby('CategoricalAge')['Survived'].mean() * 100)\n"
          ]
        }
      ],
      "source": [
        "# Calcule du taux de survie par catégorie d'âge\n",
        "\n",
        "print(\"Taux de survie par catégorie d'âge :\")\n",
        "print(train.groupby('CategoricalAge')['Survived'].mean() * 100)"
      ]
    },
    {
      "cell_type": "markdown",
      "metadata": {
        "id": "DcEr5cbjL72n"
      },
      "source": [
        "### Question 1 : Classer les variables par ordre d'intérêt\n",
        "Sex > Fare > Pclass > Age > FamilySize > IsAlone"
      ]
    },
    {
      "cell_type": "markdown",
      "metadata": {
        "id": "27laLhR0L72n"
      },
      "source": [
        "## 4 : Traitement de features complexes"
      ]
    },
    {
      "cell_type": "markdown",
      "metadata": {
        "_cell_guid": "bd25ec3f-b601-c1cc-d701-991fac1621f9",
        "_uuid": "17f6d181260d68d89f0a5dfa99b40a82b723567c",
        "id": "Y2M4rRMaL72n"
      },
      "source": [
        "4.1 : Le nom permet de retrouver le titre du passager. Trouver les titres lorsqu'ils existent."
      ]
    },
    {
      "cell_type": "code",
      "execution_count": 32,
      "metadata": {
        "_cell_guid": "ad042f43-bfe0-ded0-4171-379d8caaa749",
        "_uuid": "5a56f5b4bad78d7e323167c5f0cc07cb3675187a",
        "id": "r_0VBYwgL72n",
        "colab": {
          "base_uri": "https://localhost:8080/"
        },
        "outputId": "0b9892d2-7564-4655-9e9c-a48dcc151950"
      },
      "outputs": [
        {
          "output_type": "stream",
          "name": "stdout",
          "text": [
            "Titres du DataFrame train :\n",
            "['Mr' 'Mrs' 'Miss' 'Master' 'Don' 'Rev' 'Dr' 'Mme' 'Ms' 'Major' 'Lady'\n",
            " 'Sir' 'Mlle' 'Col' 'Capt' 'the Countess' 'Jonkheer']\n",
            "\n",
            "Titres du DataFrame test :\n",
            "['Mr' 'Mrs' 'Miss' 'Master' 'Ms' 'Col' 'Rev' 'Dr' 'Dona']\n"
          ]
        }
      ],
      "source": [
        "# Extraction des noms permettant de retrouver le titre depuis le nom du passager\n",
        "train['Title'] = train['Name'].str.extract(r',\\s*([^\\.]+)\\.', expand=False)\n",
        "test['Title'] = test['Name'].str.extract(r',\\s*([^\\.]+)\\.', expand=False)\n",
        "\n",
        "print(\"Titres du DataFrame train :\")\n",
        "print(train['Title'].unique())\n",
        "\n",
        "print(\"\\nTitres du DataFrame test :\")\n",
        "print(test['Title'].unique())\n"
      ]
    },
    {
      "cell_type": "markdown",
      "metadata": {
        "id": "lhvpNUk2L72n"
      },
      "source": [
        "4.2 : En utilisant la fonction pandas crosstab, afficher pour train le nombre d'occurences par titres (en ligne) et par sexe (en colonne)"
      ]
    },
    {
      "cell_type": "code",
      "execution_count": 33,
      "metadata": {
        "id": "KRrKCAJEL72o",
        "colab": {
          "base_uri": "https://localhost:8080/"
        },
        "outputId": "3cd43b58-0cc6-4c27-dcd5-9291c60885d7"
      },
      "outputs": [
        {
          "output_type": "stream",
          "name": "stdout",
          "text": [
            "Occurrences des titres par sexe :\n",
            "Sex           female  male\n",
            "Title                     \n",
            "Capt               0     1\n",
            "Col                0     2\n",
            "Don                0     1\n",
            "Dr                 1     6\n",
            "Jonkheer           0     1\n",
            "Lady               1     0\n",
            "Major              0     2\n",
            "Master             0    40\n",
            "Miss             182     0\n",
            "Mlle               2     0\n",
            "Mme                1     0\n",
            "Mr                 0   517\n",
            "Mrs              125     0\n",
            "Ms                 1     0\n",
            "Rev                0     6\n",
            "Sir                0     1\n",
            "the Countess       1     0\n"
          ]
        }
      ],
      "source": [
        "# Affichage du nombre d'occurrences des titres dans DataFrame train\n",
        "title_sex_crosstab = pd.crosstab(train['Title'], train['Sex'])\n",
        "print(\"Occurrences des titres par sexe :\")\n",
        "print(title_sex_crosstab)"
      ]
    },
    {
      "cell_type": "markdown",
      "metadata": {
        "_cell_guid": "ca5fff8c-7a0d-6c18-2173-b8df6293c50a",
        "_uuid": "84862f8cbbe2ea72b69a9cba78c6b7e10c80626e",
        "id": "5PODLyFxL72o"
      },
      "source": [
        "4.3 :\n",
        "Remplacer 'Melle et 'Ms' par 'Miss'\n",
        "\n",
        "Remplacer 'Mme' par 'Mrs'\n",
        "\n",
        "Creer une valeur \"Rare\" pour les autres titres avec moins de 10 occurences.\n",
        "\n",
        "Calculer ensuite le taux de survie par titre"
      ]
    },
    {
      "cell_type": "code",
      "execution_count": 34,
      "metadata": {
        "_cell_guid": "8357238b-98fe-632a-acd5-33674a6132ce",
        "_uuid": "db0029466612ad0550fc0eebef4a06a5507d6c3d",
        "id": "a-hU0p4IL72o",
        "colab": {
          "base_uri": "https://localhost:8080/"
        },
        "outputId": "d460b5c7-be37-4f6c-9f9d-6fa60334d2fa"
      },
      "outputs": [
        {
          "output_type": "stream",
          "name": "stdout",
          "text": [
            "Titres après regroupement :\n",
            "Title\n",
            "Mr        517\n",
            "Miss      185\n",
            "Mrs       126\n",
            "Master     40\n",
            "Rare       23\n",
            "Name: count, dtype: int64\n",
            "\n",
            "Taux de survie par titre :\n",
            "Title\n",
            "Master    57.500000\n",
            "Miss      70.270270\n",
            "Mr        15.667311\n",
            "Mrs       79.365079\n",
            "Rare      34.782609\n",
            "Name: Survived, dtype: float64\n"
          ]
        }
      ],
      "source": [
        "title_replacements = {\n",
        "    'Mlle': 'Miss',\n",
        "    'Ms': 'Miss',\n",
        "    'Mme': 'Mrs'\n",
        "}\n",
        "train['Title'] = train['Title'].replace(title_replacements)\n",
        "test['Title'] = test['Title'].replace(title_replacements)\n",
        "\n",
        "rare_titles = train['Title'].value_counts()[train['Title'].value_counts() < 10].index\n",
        "train['Title'] = train['Title'].replace(rare_titles, 'Rare')\n",
        "test['Title'] = test['Title'].replace(rare_titles, 'Rare')\n",
        "\n",
        "print(\"Titres après regroupement :\")\n",
        "print(train['Title'].value_counts())\n",
        "\n",
        "title_survival = train.groupby('Title')['Survived'].mean() * 100\n",
        "print(\"\\nTaux de survie par titre :\")\n",
        "print(title_survival)"
      ]
    },
    {
      "cell_type": "markdown",
      "metadata": {
        "_cell_guid": "68fa2057-e27a-e252-0d1b-869c00a303ba",
        "_uuid": "52bcf7b36b8edb12d40f2a1f9e80060b55d91ad3",
        "id": "FiVpnMSkL72o"
      },
      "source": [
        "## 5. Mise en forme des données non numériques"
      ]
    },
    {
      "cell_type": "markdown",
      "metadata": {
        "id": "ZFqc5k4QL72o"
      },
      "source": [
        "5.1 Attribuer une valeur numérique au Genre. Par exemple 0 pour 'female' et 1 pour 'male'"
      ]
    },
    {
      "cell_type": "code",
      "execution_count": 35,
      "metadata": {
        "id": "ufRK4A0uL72o",
        "outputId": "d9c73d1c-e441-4e43-8ec6-19f1910904fd",
        "colab": {
          "base_uri": "https://localhost:8080/"
        }
      },
      "outputs": [
        {
          "output_type": "stream",
          "name": "stdout",
          "text": [
            "Valeurs numériques attribuées au genre.\n"
          ]
        }
      ],
      "source": [
        "train['Sex'] = train['Sex'].map({'female': 0, 'male': 1})\n",
        "test['Sex'] = test['Sex'].map({'female': 0, 'male': 1})\n",
        "\n",
        "print(\"Valeurs numériques attribuées au genre.\")"
      ]
    },
    {
      "cell_type": "markdown",
      "metadata": {
        "id": "6W_ayRZGL72o"
      },
      "source": [
        "5.2 : Attribuer une valeur pour les possibilités de la variable \"Title\" ('Master','Miss','Mr','Mrs','Rare')"
      ]
    },
    {
      "cell_type": "code",
      "execution_count": 36,
      "metadata": {
        "id": "bbC-ms9_L72o",
        "outputId": "aac7d49a-4fec-46de-8c58-3bff02087c72",
        "colab": {
          "base_uri": "https://localhost:8080/"
        }
      },
      "outputs": [
        {
          "output_type": "stream",
          "name": "stdout",
          "text": [
            "Valeurs numériques attribuées aux titres.\n"
          ]
        }
      ],
      "source": [
        "title_mapping_numeric = {'Master': 0, 'Miss': 1, 'Mr': 2, 'Mrs': 3, 'Rare': 4}\n",
        "train['Title'] = train['Title'].map(title_mapping_numeric)\n",
        "test['Title'] = test['Title'].map(title_mapping_numeric)\n",
        "\n",
        "print(\"Valeurs numériques attribuées aux titres.\")"
      ]
    },
    {
      "cell_type": "markdown",
      "metadata": {
        "id": "0lxTjWy2L72o"
      },
      "source": [
        "5.3 Remplacer les titres manquant par 0, et attribuer à la colonne le type entier"
      ]
    },
    {
      "cell_type": "code",
      "execution_count": 37,
      "metadata": {
        "id": "6geVX9PcL72o",
        "outputId": "be38a3e9-a000-47b3-e992-c020ce65b8e8",
        "colab": {
          "base_uri": "https://localhost:8080/"
        }
      },
      "outputs": [
        {
          "output_type": "stream",
          "name": "stdout",
          "text": [
            "Titres manquants remplacés par 0 et type converti en entier.\n"
          ]
        }
      ],
      "source": [
        "train.loc[:, 'Title'] = train['Title'].fillna(0)\n",
        "test.loc[:, 'Title'] = test['Title'].fillna(0)\n",
        "\n",
        "train['Title'] = train['Title'].astype(int)\n",
        "test['Title'] = test['Title'].astype(int)\n",
        "\n",
        "print(\"Titres manquants remplacés par 0 et type converti en entier.\")"
      ]
    },
    {
      "cell_type": "markdown",
      "metadata": {
        "id": "ptzRsPbLL72p"
      },
      "source": [
        "5.4 Attribuer une valeur numérique aux 4 catégories de la variable Fare"
      ]
    },
    {
      "cell_type": "code",
      "execution_count": 38,
      "metadata": {
        "id": "b7WTEuUwL72p",
        "outputId": "324b0dd6-1a59-4a9f-96ad-72ae6a8cb242",
        "colab": {
          "base_uri": "https://localhost:8080/"
        }
      },
      "outputs": [
        {
          "output_type": "stream",
          "name": "stdout",
          "text": [
            "Valeurs numériques attribuées aux catégories de Fare.\n"
          ]
        }
      ],
      "source": [
        "fare = {'Low': 0, 'Medium': 1, 'High': 2, 'Very High': 3}\n",
        "train['CategoricalFare'] = train['CategoricalFare'].map(fare)\n",
        "test['CategoricalFare'] = test['CategoricalFare'].map(fare)\n",
        "\n",
        "print(\"Valeurs numériques attribuées aux catégories de Fare.\")"
      ]
    },
    {
      "cell_type": "markdown",
      "metadata": {
        "id": "xhanaYzIL72p"
      },
      "source": [
        "5.5 Attibuer une valeur numérique au Port d'embarquement (Embarked)"
      ]
    },
    {
      "cell_type": "code",
      "execution_count": 39,
      "metadata": {
        "id": "GiJ3MR9CL72p",
        "outputId": "94b80cbc-3e53-479b-c514-2e1c011fe777",
        "colab": {
          "base_uri": "https://localhost:8080/"
        }
      },
      "outputs": [
        {
          "output_type": "stream",
          "name": "stdout",
          "text": [
            "Valeurs numériques attribuées au port d'embarquement.\n"
          ]
        }
      ],
      "source": [
        "embarked = {'S': 0, 'C': 1, 'Q': 2}\n",
        "train['Embarked'] = train['Embarked'].map(embarked)\n",
        "test['Embarked'] = test['Embarked'].map(embarked)\n",
        "\n",
        "print(\"Valeurs numériques attribuées au port d'embarquement.\")"
      ]
    },
    {
      "cell_type": "markdown",
      "metadata": {
        "id": "F_uj2aRxL72p"
      },
      "source": [
        "5.6 Supprimer les features inutiles"
      ]
    },
    {
      "cell_type": "code",
      "execution_count": 40,
      "metadata": {
        "id": "HDwLzYIFL72p",
        "outputId": "93f2884e-fdb2-4614-d329-934bdf615a32",
        "colab": {
          "base_uri": "https://localhost:8080/"
        }
      },
      "outputs": [
        {
          "output_type": "stream",
          "name": "stdout",
          "text": [
            "Colonnes inutiles supprimées : ['Name', 'Ticket', 'Cabin']\n"
          ]
        }
      ],
      "source": [
        "columns_to_drop = ['Name', 'Ticket', 'Cabin']\n",
        "train.drop(columns=columns_to_drop, inplace=True)\n",
        "test.drop(columns=columns_to_drop, inplace=True)\n",
        "\n",
        "print(\"Colonnes inutiles supprimées :\", columns_to_drop)"
      ]
    },
    {
      "cell_type": "markdown",
      "metadata": {
        "id": "F1zNjahxL72p"
      },
      "source": [
        "5.7 Afficher les infos pour les deux datasets"
      ]
    },
    {
      "cell_type": "code",
      "execution_count": 41,
      "metadata": {
        "id": "LFAeRC77L72p",
        "outputId": "3971079b-1e67-4082-9264-0a42cc4e2921",
        "colab": {
          "base_uri": "https://localhost:8080/"
        }
      },
      "outputs": [
        {
          "output_type": "stream",
          "name": "stdout",
          "text": [
            "\n",
            "Informations sur le dataset train :\n",
            "<class 'pandas.core.frame.DataFrame'>\n",
            "RangeIndex: 891 entries, 0 to 890\n",
            "Data columns (total 14 columns):\n",
            " #   Column           Non-Null Count  Dtype   \n",
            "---  ------           --------------  -----   \n",
            " 0   PassengerId      891 non-null    int64   \n",
            " 1   Survived         891 non-null    int64   \n",
            " 2   Pclass           891 non-null    int64   \n",
            " 3   Sex              891 non-null    int64   \n",
            " 4   Age              891 non-null    float64 \n",
            " 5   SibSp            891 non-null    int64   \n",
            " 6   Parch            891 non-null    int64   \n",
            " 7   Fare             891 non-null    float64 \n",
            " 8   Embarked         891 non-null    int64   \n",
            " 9   FamilySize       891 non-null    int64   \n",
            " 10  IsAlone          891 non-null    int64   \n",
            " 11  CategoricalFare  0 non-null      float64 \n",
            " 12  CategoricalAge   891 non-null    category\n",
            " 13  Title            891 non-null    int64   \n",
            "dtypes: category(1), float64(3), int64(10)\n",
            "memory usage: 91.7 KB\n",
            "None\n",
            "\n",
            "Informations sur le dataset test :\n",
            "<class 'pandas.core.frame.DataFrame'>\n",
            "RangeIndex: 418 entries, 0 to 417\n",
            "Data columns (total 13 columns):\n",
            " #   Column           Non-Null Count  Dtype   \n",
            "---  ------           --------------  -----   \n",
            " 0   PassengerId      418 non-null    int64   \n",
            " 1   Pclass           418 non-null    int64   \n",
            " 2   Sex              418 non-null    int64   \n",
            " 3   Age              418 non-null    float64 \n",
            " 4   SibSp            418 non-null    int64   \n",
            " 5   Parch            418 non-null    int64   \n",
            " 6   Fare             418 non-null    float64 \n",
            " 7   Embarked         418 non-null    int64   \n",
            " 8   FamilySize       418 non-null    int64   \n",
            " 9   IsAlone          418 non-null    int64   \n",
            " 10  CategoricalFare  0 non-null      float64 \n",
            " 11  CategoricalAge   418 non-null    category\n",
            " 12  Title            418 non-null    int64   \n",
            "dtypes: category(1), float64(3), int64(9)\n",
            "memory usage: 39.9 KB\n",
            "None\n"
          ]
        }
      ],
      "source": [
        "print(\"\\nInformations sur le dataset train :\")\n",
        "print(train.info())\n",
        "\n",
        "print(\"\\nInformations sur le dataset test :\")\n",
        "print(test.info())"
      ]
    },
    {
      "cell_type": "markdown",
      "metadata": {
        "id": "QXgzjVT3L72p"
      },
      "source": [
        "5.8 Sauver les deux datasets dans des fichier csv. Eviter d'écrire un index (n° de ligne)"
      ]
    },
    {
      "cell_type": "code",
      "execution_count": 42,
      "metadata": {
        "_cell_guid": "2502bb70-ce6f-2497-7331-7d1f80521470",
        "_uuid": "1aa110c1043f1f43c091a771abc64054a211f784",
        "id": "lDX6A72eL72p",
        "outputId": "6eb8b283-a449-4a67-f443-1233938636cc",
        "colab": {
          "base_uri": "https://localhost:8080/"
        }
      },
      "outputs": [
        {
          "output_type": "stream",
          "name": "stdout",
          "text": [
            "Datasets sauvegardés dans 'train_preprocessed.csv' et 'test_preprocessed.csv'.\n"
          ]
        }
      ],
      "source": [
        "train.to_csv('train_preprocessed.csv', index=False)\n",
        "test.to_csv('test_preprocessed.csv', index=False)\n",
        "\n",
        "print(\"Datasets sauvegardés dans 'train_preprocessed.csv' et 'test_preprocessed.csv'.\")"
      ]
    }
  ],
  "metadata": {
    "_change_revision": 0,
    "_is_fork": false,
    "kernelspec": {
      "display_name": "Python 3",
      "language": "python",
      "name": "python3"
    },
    "language_info": {
      "codemirror_mode": {
        "name": "ipython",
        "version": 3
      },
      "file_extension": ".py",
      "mimetype": "text/x-python",
      "name": "python",
      "nbconvert_exporter": "python",
      "pygments_lexer": "ipython3",
      "version": "3.7.4"
    },
    "colab": {
      "provenance": [],
      "history_visible": true
    }
  },
  "nbformat": 4,
  "nbformat_minor": 0
}